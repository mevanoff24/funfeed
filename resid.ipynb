{
 "cells": [
  {
   "cell_type": "code",
   "execution_count": 2,
   "metadata": {
    "collapsed": false
   },
   "outputs": [
    {
     "name": "stderr",
     "output_type": "stream",
     "text": [
      "/Users/mattevanoff/anaconda/lib/python2.7/site-packages/sklearn/cross_validation.py:44: DeprecationWarning: This module was deprecated in version 0.18 in favor of the model_selection module into which all the refactored classes and functions are moved. Also note that the interface of the new CV iterators are different from that of this module. This module will be removed in 0.20.\n",
      "  \"This module will be removed in 0.20.\", DeprecationWarning)\n",
      "[WARNING] GraphLab engine cannot find spark_unity.jar\n",
      "A newer version of GraphLab Create (v2.1) is available! Your current version is v1.8.3.\n",
      "\n",
      "You can use pip to upgrade the graphlab-create package. For more information see https://dato.com/products/create/upgrade.\n",
      "[INFO] GraphLab Create v1.8.3 started. Logging: /tmp/graphlab_server_1478138026.log\n"
     ]
    },
    {
     "data": {
      "text/html": [
       "<div style=\"max-height:1000px;max-width:1500px;overflow:auto;\"><table frame=\"box\" rules=\"cols\">\n",
       "    <tr>\n",
       "        <th style=\"padding-left: 1em; padding-right: 1em; text-align: center\">item</th>\n",
       "        <th style=\"padding-left: 1em; padding-right: 1em; text-align: center\">user_id</th>\n",
       "        <th style=\"padding-left: 1em; padding-right: 1em; text-align: center\">rating</th>\n",
       "        <th style=\"padding-left: 1em; padding-right: 1em; text-align: center\">user_mu</th>\n",
       "        <th style=\"padding-left: 1em; padding-right: 1em; text-align: center\">item_mu</th>\n",
       "        <th style=\"padding-left: 1em; padding-right: 1em; text-align: center\">global_mu</th>\n",
       "        <th style=\"padding-left: 1em; padding-right: 1em; text-align: center\">prediction</th>\n",
       "    </tr>\n",
       "    <tr>\n",
       "        <td style=\"padding-left: 1em; padding-right: 1em; text-align: center; vertical-align: top\">ff36851c9690a884b3255e7a8<br>99c8bbf23a2838a ...</td>\n",
       "        <td style=\"padding-left: 1em; padding-right: 1em; text-align: center; vertical-align: top\">A2C6KUVF0FAIY8</td>\n",
       "        <td style=\"padding-left: 1em; padding-right: 1em; text-align: center; vertical-align: top\">6</td>\n",
       "        <td style=\"padding-left: 1em; padding-right: 1em; text-align: center; vertical-align: top\">5.12348048624</td>\n",
       "        <td style=\"padding-left: 1em; padding-right: 1em; text-align: center; vertical-align: top\">6.04347826087</td>\n",
       "        <td style=\"padding-left: 1em; padding-right: 1em; text-align: center; vertical-align: top\">5.59850553785</td>\n",
       "        <td style=\"padding-left: 1em; padding-right: 1em; text-align: center; vertical-align: top\">5.56845320926</td>\n",
       "    </tr>\n",
       "    <tr>\n",
       "        <td style=\"padding-left: 1em; padding-right: 1em; text-align: center; vertical-align: top\">9928986634686242941</td>\n",
       "        <td style=\"padding-left: 1em; padding-right: 1em; text-align: center; vertical-align: top\">A4OJFVPNVVIPC</td>\n",
       "        <td style=\"padding-left: 1em; padding-right: 1em; text-align: center; vertical-align: top\">6</td>\n",
       "        <td style=\"padding-left: 1em; padding-right: 1em; text-align: center; vertical-align: top\">5.35766423358</td>\n",
       "        <td style=\"padding-left: 1em; padding-right: 1em; text-align: center; vertical-align: top\">5.5</td>\n",
       "        <td style=\"padding-left: 1em; padding-right: 1em; text-align: center; vertical-align: top\">5.59850553785</td>\n",
       "        <td style=\"padding-left: 1em; padding-right: 1em; text-align: center; vertical-align: top\">5.25915869572</td>\n",
       "    </tr>\n",
       "    <tr>\n",
       "        <td style=\"padding-left: 1em; padding-right: 1em; text-align: center; vertical-align: top\">11935652107868558034</td>\n",
       "        <td style=\"padding-left: 1em; padding-right: 1em; text-align: center; vertical-align: top\">A2D28A6AROOHG</td>\n",
       "        <td style=\"padding-left: 1em; padding-right: 1em; text-align: center; vertical-align: top\">5</td>\n",
       "        <td style=\"padding-left: 1em; padding-right: 1em; text-align: center; vertical-align: top\">6.06772908367</td>\n",
       "        <td style=\"padding-left: 1em; padding-right: 1em; text-align: center; vertical-align: top\">6.07692307692</td>\n",
       "        <td style=\"padding-left: 1em; padding-right: 1em; text-align: center; vertical-align: top\">5.59850553785</td>\n",
       "        <td style=\"padding-left: 1em; padding-right: 1em; text-align: center; vertical-align: top\">6.54614662273</td>\n",
       "    </tr>\n",
       "    <tr>\n",
       "        <td style=\"padding-left: 1em; padding-right: 1em; text-align: center; vertical-align: top\">7395257615138223346</td>\n",
       "        <td style=\"padding-left: 1em; padding-right: 1em; text-align: center; vertical-align: top\">A1QYORNO0GY308</td>\n",
       "        <td style=\"padding-left: 1em; padding-right: 1em; text-align: center; vertical-align: top\">7</td>\n",
       "        <td style=\"padding-left: 1em; padding-right: 1em; text-align: center; vertical-align: top\">5.16449855567</td>\n",
       "        <td style=\"padding-left: 1em; padding-right: 1em; text-align: center; vertical-align: top\">5.875</td>\n",
       "        <td style=\"padding-left: 1em; padding-right: 1em; text-align: center; vertical-align: top\">5.59850553785</td>\n",
       "        <td style=\"padding-left: 1em; padding-right: 1em; text-align: center; vertical-align: top\">5.44099301782</td>\n",
       "    </tr>\n",
       "    <tr>\n",
       "        <td style=\"padding-left: 1em; padding-right: 1em; text-align: center; vertical-align: top\">717817938976381944</td>\n",
       "        <td style=\"padding-left: 1em; padding-right: 1em; text-align: center; vertical-align: top\">A3JHB1ECYRK7PN</td>\n",
       "        <td style=\"padding-left: 1em; padding-right: 1em; text-align: center; vertical-align: top\">5</td>\n",
       "        <td style=\"padding-left: 1em; padding-right: 1em; text-align: center; vertical-align: top\">5.63430420712</td>\n",
       "        <td style=\"padding-left: 1em; padding-right: 1em; text-align: center; vertical-align: top\">6.35</td>\n",
       "        <td style=\"padding-left: 1em; padding-right: 1em; text-align: center; vertical-align: top\">5.59850553785</td>\n",
       "        <td style=\"padding-left: 1em; padding-right: 1em; text-align: center; vertical-align: top\">6.38579866927</td>\n",
       "    </tr>\n",
       "    <tr>\n",
       "        <td style=\"padding-left: 1em; padding-right: 1em; text-align: center; vertical-align: top\">1469866671051959581</td>\n",
       "        <td style=\"padding-left: 1em; padding-right: 1em; text-align: center; vertical-align: top\">A3BOFWD3AVRMLC</td>\n",
       "        <td style=\"padding-left: 1em; padding-right: 1em; text-align: center; vertical-align: top\">7</td>\n",
       "        <td style=\"padding-left: 1em; padding-right: 1em; text-align: center; vertical-align: top\">6.28196395629</td>\n",
       "        <td style=\"padding-left: 1em; padding-right: 1em; text-align: center; vertical-align: top\">6.67857142857</td>\n",
       "        <td style=\"padding-left: 1em; padding-right: 1em; text-align: center; vertical-align: top\">5.59850553785</td>\n",
       "        <td style=\"padding-left: 1em; padding-right: 1em; text-align: center; vertical-align: top\">7.36202984701</td>\n",
       "    </tr>\n",
       "    <tr>\n",
       "        <td style=\"padding-left: 1em; padding-right: 1em; text-align: center; vertical-align: top\">4167584219941598874</td>\n",
       "        <td style=\"padding-left: 1em; padding-right: 1em; text-align: center; vertical-align: top\">ALNOT0RUQLEKU</td>\n",
       "        <td style=\"padding-left: 1em; padding-right: 1em; text-align: center; vertical-align: top\">7</td>\n",
       "        <td style=\"padding-left: 1em; padding-right: 1em; text-align: center; vertical-align: top\">6.41898031297</td>\n",
       "        <td style=\"padding-left: 1em; padding-right: 1em; text-align: center; vertical-align: top\">5.83333333333</td>\n",
       "        <td style=\"padding-left: 1em; padding-right: 1em; text-align: center; vertical-align: top\">5.59850553785</td>\n",
       "        <td style=\"padding-left: 1em; padding-right: 1em; text-align: center; vertical-align: top\">6.65380810845</td>\n",
       "    </tr>\n",
       "    <tr>\n",
       "        <td style=\"padding-left: 1em; padding-right: 1em; text-align: center; vertical-align: top\">11221793244419372421</td>\n",
       "        <td style=\"padding-left: 1em; padding-right: 1em; text-align: center; vertical-align: top\">A347XXV5JH19PB</td>\n",
       "        <td style=\"padding-left: 1em; padding-right: 1em; text-align: center; vertical-align: top\">3</td>\n",
       "        <td style=\"padding-left: 1em; padding-right: 1em; text-align: center; vertical-align: top\">4.28843055108</td>\n",
       "        <td style=\"padding-left: 1em; padding-right: 1em; text-align: center; vertical-align: top\">5.97674418605</td>\n",
       "        <td style=\"padding-left: 1em; padding-right: 1em; text-align: center; vertical-align: top\">5.59850553785</td>\n",
       "        <td style=\"padding-left: 1em; padding-right: 1em; text-align: center; vertical-align: top\">4.66666919927</td>\n",
       "    </tr>\n",
       "    <tr>\n",
       "        <td style=\"padding-left: 1em; padding-right: 1em; text-align: center; vertical-align: top\">0665a7a7cc14c7b5ed5b97896<br>8bbaf33b249a096 ...</td>\n",
       "        <td style=\"padding-left: 1em; padding-right: 1em; text-align: center; vertical-align: top\">A1475JY5KY2EF7</td>\n",
       "        <td style=\"padding-left: 1em; padding-right: 1em; text-align: center; vertical-align: top\">7</td>\n",
       "        <td style=\"padding-left: 1em; padding-right: 1em; text-align: center; vertical-align: top\">5.71668822768</td>\n",
       "        <td style=\"padding-left: 1em; padding-right: 1em; text-align: center; vertical-align: top\">5.72727272727</td>\n",
       "        <td style=\"padding-left: 1em; padding-right: 1em; text-align: center; vertical-align: top\">5.59850553785</td>\n",
       "        <td style=\"padding-left: 1em; padding-right: 1em; text-align: center; vertical-align: top\">5.8454554171</td>\n",
       "    </tr>\n",
       "    <tr>\n",
       "        <td style=\"padding-left: 1em; padding-right: 1em; text-align: center; vertical-align: top\">16708627507824412110</td>\n",
       "        <td style=\"padding-left: 1em; padding-right: 1em; text-align: center; vertical-align: top\">A37SZ84T6GDN7T</td>\n",
       "        <td style=\"padding-left: 1em; padding-right: 1em; text-align: center; vertical-align: top\">6</td>\n",
       "        <td style=\"padding-left: 1em; padding-right: 1em; text-align: center; vertical-align: top\">6.60697674419</td>\n",
       "        <td style=\"padding-left: 1em; padding-right: 1em; text-align: center; vertical-align: top\">6.33333333333</td>\n",
       "        <td style=\"padding-left: 1em; padding-right: 1em; text-align: center; vertical-align: top\">5.59850553785</td>\n",
       "        <td style=\"padding-left: 1em; padding-right: 1em; text-align: center; vertical-align: top\">7.34180453966</td>\n",
       "    </tr>\n",
       "</table>\n",
       "<table frame=\"box\" rules=\"cols\">\n",
       "    <tr>\n",
       "        <th style=\"padding-left: 1em; padding-right: 1em; text-align: center\">residual</th>\n",
       "        <th style=\"padding-left: 1em; padding-right: 1em; text-align: center\">item_int</th>\n",
       "        <th style=\"padding-left: 1em; padding-right: 1em; text-align: center\">user_int</th>\n",
       "    </tr>\n",
       "    <tr>\n",
       "        <td style=\"padding-left: 1em; padding-right: 1em; text-align: center; vertical-align: top\">0.431546790741</td>\n",
       "        <td style=\"padding-left: 1em; padding-right: 1em; text-align: center; vertical-align: top\">392599</td>\n",
       "        <td style=\"padding-left: 1em; padding-right: 1em; text-align: center; vertical-align: top\">3440</td>\n",
       "    </tr>\n",
       "    <tr>\n",
       "        <td style=\"padding-left: 1em; padding-right: 1em; text-align: center; vertical-align: top\">0.740841304278</td>\n",
       "        <td style=\"padding-left: 1em; padding-right: 1em; text-align: center; vertical-align: top\">361280</td>\n",
       "        <td style=\"padding-left: 1em; padding-right: 1em; text-align: center; vertical-align: top\">7663</td>\n",
       "    </tr>\n",
       "    <tr>\n",
       "        <td style=\"padding-left: 1em; padding-right: 1em; text-align: center; vertical-align: top\">-1.54614662273</td>\n",
       "        <td style=\"padding-left: 1em; padding-right: 1em; text-align: center; vertical-align: top\">45348</td>\n",
       "        <td style=\"padding-left: 1em; padding-right: 1em; text-align: center; vertical-align: top\">3520</td>\n",
       "    </tr>\n",
       "    <tr>\n",
       "        <td style=\"padding-left: 1em; padding-right: 1em; text-align: center; vertical-align: top\">1.55900698218</td>\n",
       "        <td style=\"padding-left: 1em; padding-right: 1em; text-align: center; vertical-align: top\">302963</td>\n",
       "        <td style=\"padding-left: 1em; padding-right: 1em; text-align: center; vertical-align: top\">1952</td>\n",
       "    </tr>\n",
       "    <tr>\n",
       "        <td style=\"padding-left: 1em; padding-right: 1em; text-align: center; vertical-align: top\">-1.38579866927</td>\n",
       "        <td style=\"padding-left: 1em; padding-right: 1em; text-align: center; vertical-align: top\">296853</td>\n",
       "        <td style=\"padding-left: 1em; padding-right: 1em; text-align: center; vertical-align: top\">6670</td>\n",
       "    </tr>\n",
       "    <tr>\n",
       "        <td style=\"padding-left: 1em; padding-right: 1em; text-align: center; vertical-align: top\">-0.36202984701</td>\n",
       "        <td style=\"padding-left: 1em; padding-right: 1em; text-align: center; vertical-align: top\">98717</td>\n",
       "        <td style=\"padding-left: 1em; padding-right: 1em; text-align: center; vertical-align: top\">6129</td>\n",
       "    </tr>\n",
       "    <tr>\n",
       "        <td style=\"padding-left: 1em; padding-right: 1em; text-align: center; vertical-align: top\">0.346191891548</td>\n",
       "        <td style=\"padding-left: 1em; padding-right: 1em; text-align: center; vertical-align: top\">227643</td>\n",
       "        <td style=\"padding-left: 1em; padding-right: 1em; text-align: center; vertical-align: top\">8891</td>\n",
       "    </tr>\n",
       "    <tr>\n",
       "        <td style=\"padding-left: 1em; padding-right: 1em; text-align: center; vertical-align: top\">-1.66666919927</td>\n",
       "        <td style=\"padding-left: 1em; padding-right: 1em; text-align: center; vertical-align: top\">32429</td>\n",
       "        <td style=\"padding-left: 1em; padding-right: 1em; text-align: center; vertical-align: top\">5554</td>\n",
       "    </tr>\n",
       "    <tr>\n",
       "        <td style=\"padding-left: 1em; padding-right: 1em; text-align: center; vertical-align: top\">1.1545445829</td>\n",
       "        <td style=\"padding-left: 1em; padding-right: 1em; text-align: center; vertical-align: top\">1928</td>\n",
       "        <td style=\"padding-left: 1em; padding-right: 1em; text-align: center; vertical-align: top\">325</td>\n",
       "    </tr>\n",
       "    <tr>\n",
       "        <td style=\"padding-left: 1em; padding-right: 1em; text-align: center; vertical-align: top\">-1.34180453966</td>\n",
       "        <td style=\"padding-left: 1em; padding-right: 1em; text-align: center; vertical-align: top\">139198</td>\n",
       "        <td style=\"padding-left: 1em; padding-right: 1em; text-align: center; vertical-align: top\">5847</td>\n",
       "    </tr>\n",
       "</table>\n",
       "[10 rows x 10 columns]<br/>\n",
       "</div>"
      ],
      "text/plain": [
       "Columns:\n",
       "\titem\tstr\n",
       "\tuser_id\tstr\n",
       "\trating\tint\n",
       "\tuser_mu\tfloat\n",
       "\titem_mu\tfloat\n",
       "\tglobal_mu\tfloat\n",
       "\tprediction\tfloat\n",
       "\tresidual\tfloat\n",
       "\titem_int\tint\n",
       "\tuser_int\tint\n",
       "\n",
       "Rows: 10\n",
       "\n",
       "Data:\n",
       "+-------------------------------+----------------+--------+---------------+\n",
       "|              item             |    user_id     | rating |    user_mu    |\n",
       "+-------------------------------+----------------+--------+---------------+\n",
       "| ff36851c9690a884b3255e7a89... | A2C6KUVF0FAIY8 |   6    | 5.12348048624 |\n",
       "|      9928986634686242941      | A4OJFVPNVVIPC  |   6    | 5.35766423358 |\n",
       "|      11935652107868558034     | A2D28A6AROOHG  |   5    | 6.06772908367 |\n",
       "|      7395257615138223346      | A1QYORNO0GY308 |   7    | 5.16449855567 |\n",
       "|       717817938976381944      | A3JHB1ECYRK7PN |   5    | 5.63430420712 |\n",
       "|      1469866671051959581      | A3BOFWD3AVRMLC |   7    | 6.28196395629 |\n",
       "|      4167584219941598874      | ALNOT0RUQLEKU  |   7    | 6.41898031297 |\n",
       "|      11221793244419372421     | A347XXV5JH19PB |   3    | 4.28843055108 |\n",
       "| 0665a7a7cc14c7b5ed5b978968... | A1475JY5KY2EF7 |   7    | 5.71668822768 |\n",
       "|      16708627507824412110     | A37SZ84T6GDN7T |   6    | 6.60697674419 |\n",
       "+-------------------------------+----------------+--------+---------------+\n",
       "+---------------+---------------+---------------+----------------+----------+\n",
       "|    item_mu    |   global_mu   |   prediction  |    residual    | item_int |\n",
       "+---------------+---------------+---------------+----------------+----------+\n",
       "| 6.04347826087 | 5.59850553785 | 5.56845320926 | 0.431546790741 |  392599  |\n",
       "|      5.5      | 5.59850553785 | 5.25915869572 | 0.740841304278 |  361280  |\n",
       "| 6.07692307692 | 5.59850553785 | 6.54614662273 | -1.54614662273 |  45348   |\n",
       "|     5.875     | 5.59850553785 | 5.44099301782 | 1.55900698218  |  302963  |\n",
       "|      6.35     | 5.59850553785 | 6.38579866927 | -1.38579866927 |  296853  |\n",
       "| 6.67857142857 | 5.59850553785 | 7.36202984701 | -0.36202984701 |  98717   |\n",
       "| 5.83333333333 | 5.59850553785 | 6.65380810845 | 0.346191891548 |  227643  |\n",
       "| 5.97674418605 | 5.59850553785 | 4.66666919927 | -1.66666919927 |  32429   |\n",
       "| 5.72727272727 | 5.59850553785 |  5.8454554171 |  1.1545445829  |   1928   |\n",
       "| 6.33333333333 | 5.59850553785 | 7.34180453966 | -1.34180453966 |  139198  |\n",
       "+---------------+---------------+---------------+----------------+----------+\n",
       "+----------+\n",
       "| user_int |\n",
       "+----------+\n",
       "|   3440   |\n",
       "|   7663   |\n",
       "|   3520   |\n",
       "|   1952   |\n",
       "|   6670   |\n",
       "|   6129   |\n",
       "|   8891   |\n",
       "|   5554   |\n",
       "|   325    |\n",
       "|   5847   |\n",
       "+----------+\n",
       "[10 rows x 10 columns]"
      ]
     },
     "execution_count": 2,
     "metadata": {},
     "output_type": "execute_result"
    }
   ],
   "source": [
    "import numpy as np\n",
    "import pandas as pd\n",
    "from sklearn.preprocessing import LabelEncoder\n",
    "from sklearn.cross_validation import StratifiedShuffleSplit\n",
    "import graphlab\n",
    "\n",
    "train = pd.read_csv('data/new_train.csv')\n",
    "test = pd.read_csv('data/new_test.csv')\n",
    "\n",
    "\n",
    "corpus=train[train.groupby('user_id').rating.transform(len)>1]\n",
    "sss=StratifiedShuffleSplit(corpus['rating'].tolist(), 1, test_size=0.2, random_state=100)\n",
    "\n",
    "train_index, test_index =list(*sss)\n",
    "X_train=corpus.iloc[train_index]\n",
    "X_test=corpus.iloc[test_index]\n",
    "X_train.head()\n",
    "\n",
    "def compute_mu(data):\n",
    "    global_mu = data.rating.mean()\n",
    "    gb_item = data.groupby('item').mean()\n",
    "    gb_user = data.groupby('user_id').mean()\n",
    "    return global_mu, gb_item, gb_user\n",
    "\n",
    "\n",
    "global_mu, gb_item, gb_user = compute_mu(X_train)\n",
    "\n",
    "# merge train + user_mu\n",
    "train_user_merge = pd.merge(X_train, gb_user, left_on='user_id', right_index=True, how = 'left')\n",
    "\n",
    "# merge train_user_merge + item_mu\n",
    "dat = pd.merge(train_user_merge, gb_item, left_on='item', right_index=True, how = 'left')\n",
    "\n",
    "# add global_mu\n",
    "dat['global_mu'] = global_mu\n",
    "dat.columns = ['item', 'user_id', 'rating', 'user_mu', 'item_mu', 'global_mu']\n",
    "\n",
    "# merge test data on item and user \n",
    "new_test = pd.merge(dat, test[['item', 'user_id']], left_on=['item', 'user_id'], \n",
    "                                    right_on=['item', 'user_id'], how = 'right')\n",
    "\n",
    "\n",
    "# add predictions \n",
    "dat['prediction'] = np.clip(dat.item_mu - dat.global_mu + dat.user_mu, 1, 10)\n",
    "new_test['prediction'] = np.clip(new_test.item_mu - new_test.global_mu + new_test.user_mu, 1, 10)\n",
    "\n",
    "# compute resids\n",
    "dat['residual'] = dat.rating - dat.prediction\n",
    "new_test['residual'] = new_test.rating - new_test.prediction\n",
    "\n",
    "# convert item and user to int(for Spark), don't think needed for graphlab\n",
    "item_label_encoder = LabelEncoder()\n",
    "user_label_encoder = LabelEncoder()\n",
    "\n",
    "item_int = item_label_encoder.fit_transform(dat.item)\n",
    "user_int = user_label_encoder.fit_transform(dat.user_id)\n",
    "\n",
    "dat['item_int'] = item_int\n",
    "dat['user_int'] = user_int\n",
    "\n",
    "\n",
    "item_int = item_label_encoder.fit_transform(new_test.item)\n",
    "user_int = user_label_encoder.fit_transform(new_test.user_id)\n",
    "\n",
    "new_test['item_int'] = item_int\n",
    "new_test['user_int'] = user_int\n",
    "\n",
    "\n",
    "train_data = graphlab.SFrame(dat)\n",
    "testing_data = graphlab.SFrame(new_test)\n",
    "train_data.head()"
   ]
  },
  {
   "cell_type": "code",
   "execution_count": 3,
   "metadata": {
    "collapsed": false
   },
   "outputs": [
    {
     "data": {
      "text/html": [
       "<pre>Preparing data set.</pre>"
      ],
      "text/plain": [
       "Preparing data set."
      ]
     },
     "metadata": {},
     "output_type": "display_data"
    },
    {
     "data": {
      "text/html": [
       "<pre>    Data has 5035524 observations with 9908 users and 392908 items.</pre>"
      ],
      "text/plain": [
       "    Data has 5035524 observations with 9908 users and 392908 items."
      ]
     },
     "metadata": {},
     "output_type": "display_data"
    },
    {
     "data": {
      "text/html": [
       "<pre>    Data prepared in: 21.4751s</pre>"
      ],
      "text/plain": [
       "    Data prepared in: 21.4751s"
      ]
     },
     "metadata": {},
     "output_type": "display_data"
    },
    {
     "data": {
      "text/html": [
       "<pre>Training factorization_recommender for recommendations.</pre>"
      ],
      "text/plain": [
       "Training factorization_recommender for recommendations."
      ]
     },
     "metadata": {},
     "output_type": "display_data"
    },
    {
     "data": {
      "text/html": [
       "<pre>+--------------------------------+--------------------------------------------------+----------+</pre>"
      ],
      "text/plain": [
       "+--------------------------------+--------------------------------------------------+----------+"
      ]
     },
     "metadata": {},
     "output_type": "display_data"
    },
    {
     "data": {
      "text/html": [
       "<pre>| Parameter                      | Description                                      | Value    |</pre>"
      ],
      "text/plain": [
       "| Parameter                      | Description                                      | Value    |"
      ]
     },
     "metadata": {},
     "output_type": "display_data"
    },
    {
     "data": {
      "text/html": [
       "<pre>+--------------------------------+--------------------------------------------------+----------+</pre>"
      ],
      "text/plain": [
       "+--------------------------------+--------------------------------------------------+----------+"
      ]
     },
     "metadata": {},
     "output_type": "display_data"
    },
    {
     "data": {
      "text/html": [
       "<pre>| num_factors                    | Factor Dimension                                 | 8        |</pre>"
      ],
      "text/plain": [
       "| num_factors                    | Factor Dimension                                 | 8        |"
      ]
     },
     "metadata": {},
     "output_type": "display_data"
    },
    {
     "data": {
      "text/html": [
       "<pre>| regularization                 | L2 Regularization on Factors                     | 1e-08    |</pre>"
      ],
      "text/plain": [
       "| regularization                 | L2 Regularization on Factors                     | 1e-08    |"
      ]
     },
     "metadata": {},
     "output_type": "display_data"
    },
    {
     "data": {
      "text/html": [
       "<pre>| solver                         | Solver used for training                         | adagrad  |</pre>"
      ],
      "text/plain": [
       "| solver                         | Solver used for training                         | adagrad  |"
      ]
     },
     "metadata": {},
     "output_type": "display_data"
    },
    {
     "data": {
      "text/html": [
       "<pre>| linear_regularization          | L2 Regularization on Linear Coefficients         | 1e-10    |</pre>"
      ],
      "text/plain": [
       "| linear_regularization          | L2 Regularization on Linear Coefficients         | 1e-10    |"
      ]
     },
     "metadata": {},
     "output_type": "display_data"
    },
    {
     "data": {
      "text/html": [
       "<pre>| max_iterations                 | Maximum Number of Iterations                     | 50       |</pre>"
      ],
      "text/plain": [
       "| max_iterations                 | Maximum Number of Iterations                     | 50       |"
      ]
     },
     "metadata": {},
     "output_type": "display_data"
    },
    {
     "data": {
      "text/html": [
       "<pre>+--------------------------------+--------------------------------------------------+----------+</pre>"
      ],
      "text/plain": [
       "+--------------------------------+--------------------------------------------------+----------+"
      ]
     },
     "metadata": {},
     "output_type": "display_data"
    },
    {
     "data": {
      "text/html": [
       "<pre>  Optimizing model using SGD; tuning step size.</pre>"
      ],
      "text/plain": [
       "  Optimizing model using SGD; tuning step size."
      ]
     },
     "metadata": {},
     "output_type": "display_data"
    },
    {
     "data": {
      "text/html": [
       "<pre>  Using 629440 / 5035524 points for tuning the step size.</pre>"
      ],
      "text/plain": [
       "  Using 629440 / 5035524 points for tuning the step size."
      ]
     },
     "metadata": {},
     "output_type": "display_data"
    },
    {
     "data": {
      "text/html": [
       "<pre>+---------+-------------------+------------------------------------------+</pre>"
      ],
      "text/plain": [
       "+---------+-------------------+------------------------------------------+"
      ]
     },
     "metadata": {},
     "output_type": "display_data"
    },
    {
     "data": {
      "text/html": [
       "<pre>| Attempt | Initial Step Size | Estimated Objective Value                |</pre>"
      ],
      "text/plain": [
       "| Attempt | Initial Step Size | Estimated Objective Value                |"
      ]
     },
     "metadata": {},
     "output_type": "display_data"
    },
    {
     "data": {
      "text/html": [
       "<pre>+---------+-------------------+------------------------------------------+</pre>"
      ],
      "text/plain": [
       "+---------+-------------------+------------------------------------------+"
      ]
     },
     "metadata": {},
     "output_type": "display_data"
    },
    {
     "data": {
      "text/html": [
       "<pre>| 0       | 5.55556           | Not Viable                               |</pre>"
      ],
      "text/plain": [
       "| 0       | 5.55556           | Not Viable                               |"
      ]
     },
     "metadata": {},
     "output_type": "display_data"
    },
    {
     "data": {
      "text/html": [
       "<pre>| 1       | 1.38889           | Not Viable                               |</pre>"
      ],
      "text/plain": [
       "| 1       | 1.38889           | Not Viable                               |"
      ]
     },
     "metadata": {},
     "output_type": "display_data"
    },
    {
     "data": {
      "text/html": [
       "<pre>| 2       | 0.347222          | Not Viable                               |</pre>"
      ],
      "text/plain": [
       "| 2       | 0.347222          | Not Viable                               |"
      ]
     },
     "metadata": {},
     "output_type": "display_data"
    },
    {
     "data": {
      "text/html": [
       "<pre>| 3       | 0.0868056         | Not Viable                               |</pre>"
      ],
      "text/plain": [
       "| 3       | 0.0868056         | Not Viable                               |"
      ]
     },
     "metadata": {},
     "output_type": "display_data"
    },
    {
     "data": {
      "text/html": [
       "<pre>| 4       | 0.0217014         | Not Viable                               |</pre>"
      ],
      "text/plain": [
       "| 4       | 0.0217014         | Not Viable                               |"
      ]
     },
     "metadata": {},
     "output_type": "display_data"
    },
    {
     "data": {
      "text/html": [
       "<pre>| 5       | 0.00542535        | Not Viable                               |</pre>"
      ],
      "text/plain": [
       "| 5       | 0.00542535        | Not Viable                               |"
      ]
     },
     "metadata": {},
     "output_type": "display_data"
    },
    {
     "data": {
      "text/html": [
       "<pre>| 6       | 0.00135634        | Not Viable                               |</pre>"
      ],
      "text/plain": [
       "| 6       | 0.00135634        | Not Viable                               |"
      ]
     },
     "metadata": {},
     "output_type": "display_data"
    },
    {
     "data": {
      "text/html": [
       "<pre>| 7       | 0.000339084       | 1.48811                                  |</pre>"
      ],
      "text/plain": [
       "| 7       | 0.000339084       | 1.48811                                  |"
      ]
     },
     "metadata": {},
     "output_type": "display_data"
    },
    {
     "data": {
      "text/html": [
       "<pre>| 8       | 0.000169542       | 1.63177                                  |</pre>"
      ],
      "text/plain": [
       "| 8       | 0.000169542       | 1.63177                                  |"
      ]
     },
     "metadata": {},
     "output_type": "display_data"
    },
    {
     "data": {
      "text/html": [
       "<pre>| 9       | 8.47711e-05       | 1.89178                                  |</pre>"
      ],
      "text/plain": [
       "| 9       | 8.47711e-05       | 1.89178                                  |"
      ]
     },
     "metadata": {},
     "output_type": "display_data"
    },
    {
     "data": {
      "text/html": [
       "<pre>| 10      | 4.23855e-05       | 2.05131                                  |</pre>"
      ],
      "text/plain": [
       "| 10      | 4.23855e-05       | 2.05131                                  |"
      ]
     },
     "metadata": {},
     "output_type": "display_data"
    },
    {
     "data": {
      "text/html": [
       "<pre>+---------+-------------------+------------------------------------------+</pre>"
      ],
      "text/plain": [
       "+---------+-------------------+------------------------------------------+"
      ]
     },
     "metadata": {},
     "output_type": "display_data"
    },
    {
     "data": {
      "text/html": [
       "<pre>| Final   | 0.000339084       | 1.48811                                  |</pre>"
      ],
      "text/plain": [
       "| Final   | 0.000339084       | 1.48811                                  |"
      ]
     },
     "metadata": {},
     "output_type": "display_data"
    },
    {
     "data": {
      "text/html": [
       "<pre>+---------+-------------------+------------------------------------------+</pre>"
      ],
      "text/plain": [
       "+---------+-------------------+------------------------------------------+"
      ]
     },
     "metadata": {},
     "output_type": "display_data"
    },
    {
     "data": {
      "text/html": [
       "<pre>Starting Optimization.</pre>"
      ],
      "text/plain": [
       "Starting Optimization."
      ]
     },
     "metadata": {},
     "output_type": "display_data"
    },
    {
     "data": {
      "text/html": [
       "<pre>+---------+--------------+-------------------+-----------------------+-------------+</pre>"
      ],
      "text/plain": [
       "+---------+--------------+-------------------+-----------------------+-------------+"
      ]
     },
     "metadata": {},
     "output_type": "display_data"
    },
    {
     "data": {
      "text/html": [
       "<pre>| Iter.   | Elapsed Time | Approx. Objective | Approx. Training RMSE | Step Size   |</pre>"
      ],
      "text/plain": [
       "| Iter.   | Elapsed Time | Approx. Objective | Approx. Training RMSE | Step Size   |"
      ]
     },
     "metadata": {},
     "output_type": "display_data"
    },
    {
     "data": {
      "text/html": [
       "<pre>+---------+--------------+-------------------+-----------------------+-------------+</pre>"
      ],
      "text/plain": [
       "+---------+--------------+-------------------+-----------------------+-------------+"
      ]
     },
     "metadata": {},
     "output_type": "display_data"
    },
    {
     "data": {
      "text/html": [
       "<pre>| Initial | 93us         | 2.2174            | 1.48909               |             |</pre>"
      ],
      "text/plain": [
       "| Initial | 93us         | 2.2174            | 1.48909               |             |"
      ]
     },
     "metadata": {},
     "output_type": "display_data"
    },
    {
     "data": {
      "text/html": [
       "<pre>+---------+--------------+-------------------+-----------------------+-------------+</pre>"
      ],
      "text/plain": [
       "+---------+--------------+-------------------+-----------------------+-------------+"
      ]
     },
     "metadata": {},
     "output_type": "display_data"
    },
    {
     "data": {
      "text/html": [
       "<pre>| 1       | 4.70s        | 1.79068           | 1.33816               | 0.000339084 |</pre>"
      ],
      "text/plain": [
       "| 1       | 4.70s        | 1.79068           | 1.33816               | 0.000339084 |"
      ]
     },
     "metadata": {},
     "output_type": "display_data"
    },
    {
     "data": {
      "text/html": [
       "<pre>| 2       | 9.10s        | DIVERGED          | DIVERGED              | 0.000339084 |</pre>"
      ],
      "text/plain": [
       "| 2       | 9.10s        | DIVERGED          | DIVERGED              | 0.000339084 |"
      ]
     },
     "metadata": {},
     "output_type": "display_data"
    },
    {
     "data": {
      "text/html": [
       "<pre>| RESET   | 10.38s       | 2.21749           | 1.48912               |             |</pre>"
      ],
      "text/plain": [
       "| RESET   | 10.38s       | 2.21749           | 1.48912               |             |"
      ]
     },
     "metadata": {},
     "output_type": "display_data"
    },
    {
     "data": {
      "text/html": [
       "<pre>| 1       | 13.62s       | 1.74005           | 1.31911               | 0.000169542 |</pre>"
      ],
      "text/plain": [
       "| 1       | 13.62s       | 1.74005           | 1.31911               | 0.000169542 |"
      ]
     },
     "metadata": {},
     "output_type": "display_data"
    },
    {
     "data": {
      "text/html": [
       "<pre>| 2       | 16.87s       | 1.53305           | 1.23816               | 0.000169542 |</pre>"
      ],
      "text/plain": [
       "| 2       | 16.87s       | 1.53305           | 1.23816               | 0.000169542 |"
      ]
     },
     "metadata": {},
     "output_type": "display_data"
    },
    {
     "data": {
      "text/html": [
       "<pre>| 3       | 20.09s       | 1.73075           | 1.31558               | 0.000169542 |</pre>"
      ],
      "text/plain": [
       "| 3       | 20.09s       | 1.73075           | 1.31558               | 0.000169542 |"
      ]
     },
     "metadata": {},
     "output_type": "display_data"
    },
    {
     "data": {
      "text/html": [
       "<pre>| 4       | 23.37s       | 2.17742           | 1.47561               | 0.000169542 |</pre>"
      ],
      "text/plain": [
       "| 4       | 23.37s       | 2.17742           | 1.47561               | 0.000169542 |"
      ]
     },
     "metadata": {},
     "output_type": "display_data"
    },
    {
     "data": {
      "text/html": [
       "<pre>| 5       | 26.56s       | 2.96722           | 1.72256               | 0.000169542 |</pre>"
      ],
      "text/plain": [
       "| 5       | 26.56s       | 2.96722           | 1.72256               | 0.000169542 |"
      ]
     },
     "metadata": {},
     "output_type": "display_data"
    },
    {
     "data": {
      "text/html": [
       "<pre>| 6       | 30.12s       | 4.06371           | 2.01586               | 0.000169542 |</pre>"
      ],
      "text/plain": [
       "| 6       | 30.12s       | 4.06371           | 2.01586               | 0.000169542 |"
      ]
     },
     "metadata": {},
     "output_type": "display_data"
    },
    {
     "data": {
      "text/html": [
       "<pre>| 7       | 35.18s       | DIVERGED          | DIVERGED              | 0.000169542 |</pre>"
      ],
      "text/plain": [
       "| 7       | 35.18s       | DIVERGED          | DIVERGED              | 0.000169542 |"
      ]
     },
     "metadata": {},
     "output_type": "display_data"
    },
    {
     "data": {
      "text/html": [
       "<pre>| RESET   | 36.37s       | 2.2172            | 1.48903               |             |</pre>"
      ],
      "text/plain": [
       "| RESET   | 36.37s       | 2.2172            | 1.48903               |             |"
      ]
     },
     "metadata": {},
     "output_type": "display_data"
    },
    {
     "data": {
      "text/html": [
       "<pre>| 1       | 39.63s       | 1.95652           | 1.39876               | 8.47711e-05 |</pre>"
      ],
      "text/plain": [
       "| 1       | 39.63s       | 1.95652           | 1.39876               | 8.47711e-05 |"
      ]
     },
     "metadata": {},
     "output_type": "display_data"
    },
    {
     "data": {
      "text/html": [
       "<pre>| 2       | 42.77s       | 1.75706           | 1.32554               | 8.47711e-05 |</pre>"
      ],
      "text/plain": [
       "| 2       | 42.77s       | 1.75706           | 1.32554               | 8.47711e-05 |"
      ]
     },
     "metadata": {},
     "output_type": "display_data"
    },
    {
     "data": {
      "text/html": [
       "<pre>| 3       | 45.89s       | 1.64067           | 1.28088               | 8.47711e-05 |</pre>"
      ],
      "text/plain": [
       "| 3       | 45.89s       | 1.64067           | 1.28088               | 8.47711e-05 |"
      ]
     },
     "metadata": {},
     "output_type": "display_data"
    },
    {
     "data": {
      "text/html": [
       "<pre>| 4       | 49.07s       | 1.55626           | 1.2475                | 8.47711e-05 |</pre>"
      ],
      "text/plain": [
       "| 4       | 49.07s       | 1.55626           | 1.2475                | 8.47711e-05 |"
      ]
     },
     "metadata": {},
     "output_type": "display_data"
    },
    {
     "data": {
      "text/html": [
       "<pre>| 5       | 52.71s       | 1.49484           | 1.22264               | 8.47711e-05 |</pre>"
      ],
      "text/plain": [
       "| 5       | 52.71s       | 1.49484           | 1.22264               | 8.47711e-05 |"
      ]
     },
     "metadata": {},
     "output_type": "display_data"
    },
    {
     "data": {
      "text/html": [
       "<pre>| 6       | 57.26s       | 1.4491            | 1.20379               | 8.47711e-05 |</pre>"
      ],
      "text/plain": [
       "| 6       | 57.26s       | 1.4491            | 1.20379               | 8.47711e-05 |"
      ]
     },
     "metadata": {},
     "output_type": "display_data"
    },
    {
     "data": {
      "text/html": [
       "<pre>| 7       | 1m 1s        | 1.42006           | 1.19166               | 8.47711e-05 |</pre>"
      ],
      "text/plain": [
       "| 7       | 1m 1s        | 1.42006           | 1.19166               | 8.47711e-05 |"
      ]
     },
     "metadata": {},
     "output_type": "display_data"
    },
    {
     "data": {
      "text/html": [
       "<pre>| 8       | 1m 5s        | 1.40466           | 1.18518               | 8.47711e-05 |</pre>"
      ],
      "text/plain": [
       "| 8       | 1m 5s        | 1.40466           | 1.18518               | 8.47711e-05 |"
      ]
     },
     "metadata": {},
     "output_type": "display_data"
    },
    {
     "data": {
      "text/html": [
       "<pre>| 9       | 1m 10s       | 1.40382           | 1.18483               | 8.47711e-05 |</pre>"
      ],
      "text/plain": [
       "| 9       | 1m 10s       | 1.40382           | 1.18483               | 8.47711e-05 |"
      ]
     },
     "metadata": {},
     "output_type": "display_data"
    },
    {
     "data": {
      "text/html": [
       "<pre>| 10      | 1m 14s       | 1.42498           | 1.19373               | 8.47711e-05 |</pre>"
      ],
      "text/plain": [
       "| 10      | 1m 14s       | 1.42498           | 1.19373               | 8.47711e-05 |"
      ]
     },
     "metadata": {},
     "output_type": "display_data"
    },
    {
     "data": {
      "text/html": [
       "<pre>| 11      | 1m 19s       | 1.46189           | 1.20908               | 8.47711e-05 |</pre>"
      ],
      "text/plain": [
       "| 11      | 1m 19s       | 1.46189           | 1.20908               | 8.47711e-05 |"
      ]
     },
     "metadata": {},
     "output_type": "display_data"
    },
    {
     "data": {
      "text/html": [
       "<pre>| 12      | 1m 23s       | 1.49257           | 1.22171               | 8.47711e-05 |</pre>"
      ],
      "text/plain": [
       "| 12      | 1m 23s       | 1.49257           | 1.22171               | 8.47711e-05 |"
      ]
     },
     "metadata": {},
     "output_type": "display_data"
    },
    {
     "data": {
      "text/html": [
       "<pre>| 13      | 1m 26s       | 1.53759           | 1.23999               | 8.47711e-05 |</pre>"
      ],
      "text/plain": [
       "| 13      | 1m 26s       | 1.53759           | 1.23999               | 8.47711e-05 |"
      ]
     },
     "metadata": {},
     "output_type": "display_data"
    },
    {
     "data": {
      "text/html": [
       "<pre>| 14      | 1m 30s       | 1.58716           | 1.25983               | 8.47711e-05 |</pre>"
      ],
      "text/plain": [
       "| 14      | 1m 30s       | 1.58716           | 1.25983               | 8.47711e-05 |"
      ]
     },
     "metadata": {},
     "output_type": "display_data"
    },
    {
     "data": {
      "text/html": [
       "<pre>| 15      | 1m 34s       | 1.63975           | 1.28053               | 8.47711e-05 |</pre>"
      ],
      "text/plain": [
       "| 15      | 1m 34s       | 1.63975           | 1.28053               | 8.47711e-05 |"
      ]
     },
     "metadata": {},
     "output_type": "display_data"
    },
    {
     "data": {
      "text/html": [
       "<pre>| 16      | 1m 39s       | 1.69684           | 1.30263               | 8.47711e-05 |</pre>"
      ],
      "text/plain": [
       "| 16      | 1m 39s       | 1.69684           | 1.30263               | 8.47711e-05 |"
      ]
     },
     "metadata": {},
     "output_type": "display_data"
    },
    {
     "data": {
      "text/html": [
       "<pre>| 17      | 1m 42s       | 1.75327           | 1.32411               | 8.47711e-05 |</pre>"
      ],
      "text/plain": [
       "| 17      | 1m 42s       | 1.75327           | 1.32411               | 8.47711e-05 |"
      ]
     },
     "metadata": {},
     "output_type": "display_data"
    },
    {
     "data": {
      "text/html": [
       "<pre>| 18      | 1m 46s       | 1.81964           | 1.34894               | 8.47711e-05 |</pre>"
      ],
      "text/plain": [
       "| 18      | 1m 46s       | 1.81964           | 1.34894               | 8.47711e-05 |"
      ]
     },
     "metadata": {},
     "output_type": "display_data"
    },
    {
     "data": {
      "text/html": [
       "<pre>| 19      | 1m 49s       | 1.89139           | 1.37528               | 8.47711e-05 |</pre>"
      ],
      "text/plain": [
       "| 19      | 1m 49s       | 1.89139           | 1.37528               | 8.47711e-05 |"
      ]
     },
     "metadata": {},
     "output_type": "display_data"
    },
    {
     "data": {
      "text/html": [
       "<pre>| 20      | 1m 54s       | 1.95416           | 1.39791               | 8.47711e-05 |</pre>"
      ],
      "text/plain": [
       "| 20      | 1m 54s       | 1.95416           | 1.39791               | 8.47711e-05 |"
      ]
     },
     "metadata": {},
     "output_type": "display_data"
    },
    {
     "data": {
      "text/html": [
       "<pre>| 21      | 1m 59s       | 2.04215           | 1.42904               | 8.47711e-05 |</pre>"
      ],
      "text/plain": [
       "| 21      | 1m 59s       | 2.04215           | 1.42904               | 8.47711e-05 |"
      ]
     },
     "metadata": {},
     "output_type": "display_data"
    },
    {
     "data": {
      "text/html": [
       "<pre>| 22      | 2m 3s        | 2.10514           | 1.45091               | 8.47711e-05 |</pre>"
      ],
      "text/plain": [
       "| 22      | 2m 3s        | 2.10514           | 1.45091               | 8.47711e-05 |"
      ]
     },
     "metadata": {},
     "output_type": "display_data"
    },
    {
     "data": {
      "text/html": [
       "<pre>| 23      | 2m 7s        | 2.18879           | 1.47945               | 8.47711e-05 |</pre>"
      ],
      "text/plain": [
       "| 23      | 2m 7s        | 2.18879           | 1.47945               | 8.47711e-05 |"
      ]
     },
     "metadata": {},
     "output_type": "display_data"
    },
    {
     "data": {
      "text/html": [
       "<pre>| 24      | 2m 11s       | 2.26172           | 1.5039                | 8.47711e-05 |</pre>"
      ],
      "text/plain": [
       "| 24      | 2m 11s       | 2.26172           | 1.5039                | 8.47711e-05 |"
      ]
     },
     "metadata": {},
     "output_type": "display_data"
    },
    {
     "data": {
      "text/html": [
       "<pre>| 25      | 2m 14s       | 2.37979           | 1.54266               | 8.47711e-05 |</pre>"
      ],
      "text/plain": [
       "| 25      | 2m 14s       | 2.37979           | 1.54266               | 8.47711e-05 |"
      ]
     },
     "metadata": {},
     "output_type": "display_data"
    },
    {
     "data": {
      "text/html": [
       "<pre>| 26      | 2m 17s       | 2.45204           | 1.5659                | 8.47711e-05 |</pre>"
      ],
      "text/plain": [
       "| 26      | 2m 17s       | 2.45204           | 1.5659                | 8.47711e-05 |"
      ]
     },
     "metadata": {},
     "output_type": "display_data"
    },
    {
     "data": {
      "text/html": [
       "<pre>| 27      | 2m 22s       | 2.52446           | 1.58886               | 8.47711e-05 |</pre>"
      ],
      "text/plain": [
       "| 27      | 2m 22s       | 2.52446           | 1.58886               | 8.47711e-05 |"
      ]
     },
     "metadata": {},
     "output_type": "display_data"
    },
    {
     "data": {
      "text/html": [
       "<pre>| 28      | 2m 27s       | 2.59745           | 1.61166               | 8.47711e-05 |</pre>"
      ],
      "text/plain": [
       "| 28      | 2m 27s       | 2.59745           | 1.61166               | 8.47711e-05 |"
      ]
     },
     "metadata": {},
     "output_type": "display_data"
    },
    {
     "data": {
      "text/html": [
       "<pre>| 29      | 2m 31s       | DIVERGED          | DIVERGED              | 8.47711e-05 |</pre>"
      ],
      "text/plain": [
       "| 29      | 2m 31s       | DIVERGED          | DIVERGED              | 8.47711e-05 |"
      ]
     },
     "metadata": {},
     "output_type": "display_data"
    },
    {
     "data": {
      "text/html": [
       "<pre>| RESET   | 2m 33s       | 2.21594           | 1.4886                |             |</pre>"
      ],
      "text/plain": [
       "| RESET   | 2m 33s       | 2.21594           | 1.4886                |             |"
      ]
     },
     "metadata": {},
     "output_type": "display_data"
    },
    {
     "data": {
      "text/html": [
       "<pre>| 1       | 2m 37s       | 2.08627           | 1.44439               | 4.23855e-05 |</pre>"
      ],
      "text/plain": [
       "| 1       | 2m 37s       | 2.08627           | 1.44439               | 4.23855e-05 |"
      ]
     },
     "metadata": {},
     "output_type": "display_data"
    },
    {
     "data": {
      "text/html": [
       "<pre>| 2       | 2m 40s       | 1.97759           | 1.40627               | 4.23855e-05 |</pre>"
      ],
      "text/plain": [
       "| 2       | 2m 40s       | 1.97759           | 1.40627               | 4.23855e-05 |"
      ]
     },
     "metadata": {},
     "output_type": "display_data"
    },
    {
     "data": {
      "text/html": [
       "<pre>| 3       | 2m 45s       | 1.90835           | 1.38143               | 4.23855e-05 |</pre>"
      ],
      "text/plain": [
       "| 3       | 2m 45s       | 1.90835           | 1.38143               | 4.23855e-05 |"
      ]
     },
     "metadata": {},
     "output_type": "display_data"
    },
    {
     "data": {
      "text/html": [
       "<pre>| 4       | 2m 48s       | 1.85431           | 1.36173               | 4.23855e-05 |</pre>"
      ],
      "text/plain": [
       "| 4       | 2m 48s       | 1.85431           | 1.36173               | 4.23855e-05 |"
      ]
     },
     "metadata": {},
     "output_type": "display_data"
    },
    {
     "data": {
      "text/html": [
       "<pre>| 5       | 2m 52s       | 1.80815           | 1.34467               | 4.23855e-05 |</pre>"
      ],
      "text/plain": [
       "| 5       | 2m 52s       | 1.80815           | 1.34467               | 4.23855e-05 |"
      ]
     },
     "metadata": {},
     "output_type": "display_data"
    },
    {
     "data": {
      "text/html": [
       "<pre>| 6       | 2m 57s       | 1.76795           | 1.32964               | 4.23855e-05 |</pre>"
      ],
      "text/plain": [
       "| 6       | 2m 57s       | 1.76795           | 1.32964               | 4.23855e-05 |"
      ]
     },
     "metadata": {},
     "output_type": "display_data"
    },
    {
     "data": {
      "text/html": [
       "<pre>| 7       | 3m 1s        | 1.73153           | 1.31588               | 4.23855e-05 |</pre>"
      ],
      "text/plain": [
       "| 7       | 3m 1s        | 1.73153           | 1.31588               | 4.23855e-05 |"
      ]
     },
     "metadata": {},
     "output_type": "display_data"
    },
    {
     "data": {
      "text/html": [
       "<pre>| 8       | 3m 5s        | 1.69863           | 1.30331               | 4.23855e-05 |</pre>"
      ],
      "text/plain": [
       "| 8       | 3m 5s        | 1.69863           | 1.30331               | 4.23855e-05 |"
      ]
     },
     "metadata": {},
     "output_type": "display_data"
    },
    {
     "data": {
      "text/html": [
       "<pre>| 9       | 3m 9s        | 1.67471           | 1.2941                | 4.23855e-05 |</pre>"
      ],
      "text/plain": [
       "| 9       | 3m 9s        | 1.67471           | 1.2941                | 4.23855e-05 |"
      ]
     },
     "metadata": {},
     "output_type": "display_data"
    },
    {
     "data": {
      "text/html": [
       "<pre>| 10      | 3m 13s       | 1.65416           | 1.28614               | 4.23855e-05 |</pre>"
      ],
      "text/plain": [
       "| 10      | 3m 13s       | 1.65416           | 1.28614               | 4.23855e-05 |"
      ]
     },
     "metadata": {},
     "output_type": "display_data"
    },
    {
     "data": {
      "text/html": [
       "<pre>| 11      | 3m 17s       | 1.63558           | 1.2789                | 4.23855e-05 |</pre>"
      ],
      "text/plain": [
       "| 11      | 3m 17s       | 1.63558           | 1.2789                | 4.23855e-05 |"
      ]
     },
     "metadata": {},
     "output_type": "display_data"
    },
    {
     "data": {
      "text/html": [
       "<pre>| 12      | 3m 20s       | 1.6177            | 1.27189               | 4.23855e-05 |</pre>"
      ],
      "text/plain": [
       "| 12      | 3m 20s       | 1.6177            | 1.27189               | 4.23855e-05 |"
      ]
     },
     "metadata": {},
     "output_type": "display_data"
    },
    {
     "data": {
      "text/html": [
       "<pre>| 13      | 3m 23s       | 1.60118           | 1.26538               | 4.23855e-05 |</pre>"
      ],
      "text/plain": [
       "| 13      | 3m 23s       | 1.60118           | 1.26538               | 4.23855e-05 |"
      ]
     },
     "metadata": {},
     "output_type": "display_data"
    },
    {
     "data": {
      "text/html": [
       "<pre>| 14      | 3m 26s       | 1.58598           | 1.25936               | 4.23855e-05 |</pre>"
      ],
      "text/plain": [
       "| 14      | 3m 26s       | 1.58598           | 1.25936               | 4.23855e-05 |"
      ]
     },
     "metadata": {},
     "output_type": "display_data"
    },
    {
     "data": {
      "text/html": [
       "<pre>| 15      | 3m 30s       | 1.57122           | 1.25348               | 4.23855e-05 |</pre>"
      ],
      "text/plain": [
       "| 15      | 3m 30s       | 1.57122           | 1.25348               | 4.23855e-05 |"
      ]
     },
     "metadata": {},
     "output_type": "display_data"
    },
    {
     "data": {
      "text/html": [
       "<pre>| 16      | 3m 33s       | 1.55799           | 1.2482                | 4.23855e-05 |</pre>"
      ],
      "text/plain": [
       "| 16      | 3m 33s       | 1.55799           | 1.2482                | 4.23855e-05 |"
      ]
     },
     "metadata": {},
     "output_type": "display_data"
    },
    {
     "data": {
      "text/html": [
       "<pre>| 17      | 3m 38s       | 1.54501           | 1.24298               | 4.23855e-05 |</pre>"
      ],
      "text/plain": [
       "| 17      | 3m 38s       | 1.54501           | 1.24298               | 4.23855e-05 |"
      ]
     },
     "metadata": {},
     "output_type": "display_data"
    },
    {
     "data": {
      "text/html": [
       "<pre>+---------+--------------+-------------------+-----------------------+-------------+</pre>"
      ],
      "text/plain": [
       "+---------+--------------+-------------------+-----------------------+-------------+"
      ]
     },
     "metadata": {},
     "output_type": "display_data"
    },
    {
     "data": {
      "text/html": [
       "<pre>Optimization Complete: Maximum number of passes through the data reached (hard limit).</pre>"
      ],
      "text/plain": [
       "Optimization Complete: Maximum number of passes through the data reached (hard limit)."
      ]
     },
     "metadata": {},
     "output_type": "display_data"
    },
    {
     "data": {
      "text/html": [
       "<pre>Computing final objective value and training RMSE.</pre>"
      ],
      "text/plain": [
       "Computing final objective value and training RMSE."
      ]
     },
     "metadata": {},
     "output_type": "display_data"
    },
    {
     "data": {
      "text/html": [
       "<pre>       Final objective value: 1.53916</pre>"
      ],
      "text/plain": [
       "       Final objective value: 1.53916"
      ]
     },
     "metadata": {},
     "output_type": "display_data"
    },
    {
     "data": {
      "text/html": [
       "<pre>       Final training RMSE: 1.24063</pre>"
      ],
      "text/plain": [
       "       Final training RMSE: 1.24063"
      ]
     },
     "metadata": {},
     "output_type": "display_data"
    }
   ],
   "source": [
    "factor_matrix = graphlab.recommender.factorization_recommender.create(train_data, \n",
    "                                                    user_id='user_int', item_id='item_int', target='residual')"
   ]
  },
  {
   "cell_type": "code",
   "execution_count": 4,
   "metadata": {
    "collapsed": false
   },
   "outputs": [
    {
     "name": "stdout",
     "output_type": "stream",
     "text": [
      "1.26301685605\n"
     ]
    }
   ],
   "source": [
    "\n",
    "factor_pred = factor_matrix.predict(testing_data)\n",
    "\n",
    "testing_data['resid_pred'] = np.array(factor_pred)\n",
    "\n",
    "testing_data['pred_final'] = testing_data['resid_pred'] + testing_data['prediction']\n",
    "\n",
    "no_na_test = testing_data.dropna()\n",
    "\n",
    "from sklearn.metrics import mean_squared_error\n",
    "\n",
    "def RMSE(y_true, y_pred):\n",
    "    return np.sqrt(mean_squared_error(y_true, y_pred)) \n",
    "\n",
    "y_true = np.array(no_na_test['rating'])\n",
    "y_pred = np.array(no_na_test['pred_final'])\n",
    "\n",
    "print RMSE(y_true, y_pred)"
   ]
  },
  {
   "cell_type": "code",
   "execution_count": 1,
   "metadata": {
    "collapsed": false
   },
   "outputs": [
    {
     "data": {
      "text/html": [
       "<div>\n",
       "<table border=\"1\" class=\"dataframe\">\n",
       "  <thead>\n",
       "    <tr style=\"text-align: right;\">\n",
       "      <th></th>\n",
       "      <th>item</th>\n",
       "      <th>user_id</th>\n",
       "      <th>rating</th>\n",
       "    </tr>\n",
       "  </thead>\n",
       "  <tbody>\n",
       "    <tr>\n",
       "      <th>0</th>\n",
       "      <td>00009a90ce7ec2b3e52bbffe7388dbc5850b3a6a</td>\n",
       "      <td>A079789010EVSPIBCSWFO</td>\n",
       "      <td>6</td>\n",
       "    </tr>\n",
       "    <tr>\n",
       "      <th>1</th>\n",
       "      <td>00009a90ce7ec2b3e52bbffe7388dbc5850b3a6a</td>\n",
       "      <td>A13U02TNYRFNOI</td>\n",
       "      <td>6</td>\n",
       "    </tr>\n",
       "    <tr>\n",
       "      <th>2</th>\n",
       "      <td>00009a90ce7ec2b3e52bbffe7388dbc5850b3a6a</td>\n",
       "      <td>A1QYORNO0GY308</td>\n",
       "      <td>5</td>\n",
       "    </tr>\n",
       "    <tr>\n",
       "      <th>3</th>\n",
       "      <td>00009a90ce7ec2b3e52bbffe7388dbc5850b3a6a</td>\n",
       "      <td>A1SUU1QIRDZXJC</td>\n",
       "      <td>1</td>\n",
       "    </tr>\n",
       "    <tr>\n",
       "      <th>4</th>\n",
       "      <td>00009a90ce7ec2b3e52bbffe7388dbc5850b3a6a</td>\n",
       "      <td>A2ELH6CUC5Y8J4</td>\n",
       "      <td>3</td>\n",
       "    </tr>\n",
       "  </tbody>\n",
       "</table>\n",
       "</div>"
      ],
      "text/plain": [
       "                                       item                user_id  rating\n",
       "0  00009a90ce7ec2b3e52bbffe7388dbc5850b3a6a  A079789010EVSPIBCSWFO       6\n",
       "1  00009a90ce7ec2b3e52bbffe7388dbc5850b3a6a         A13U02TNYRFNOI       6\n",
       "2  00009a90ce7ec2b3e52bbffe7388dbc5850b3a6a         A1QYORNO0GY308       5\n",
       "3  00009a90ce7ec2b3e52bbffe7388dbc5850b3a6a         A1SUU1QIRDZXJC       1\n",
       "4  00009a90ce7ec2b3e52bbffe7388dbc5850b3a6a         A2ELH6CUC5Y8J4       3"
      ]
     },
     "execution_count": 1,
     "metadata": {},
     "output_type": "execute_result"
    }
   ],
   "source": [
    "import numpy as np\n",
    "import pandas as pd\n",
    "\n",
    "train = pd.read_csv('data/new_train.csv')\n",
    "test = pd.read_csv('data/new_test.csv')\n",
    "train.head()"
   ]
  },
  {
   "cell_type": "code",
   "execution_count": 2,
   "metadata": {
    "collapsed": false
   },
   "outputs": [
    {
     "data": {
      "text/html": [
       "<div>\n",
       "<table border=\"1\" class=\"dataframe\">\n",
       "  <thead>\n",
       "    <tr style=\"text-align: right;\">\n",
       "      <th></th>\n",
       "      <th>item</th>\n",
       "      <th>user_id</th>\n",
       "    </tr>\n",
       "  </thead>\n",
       "  <tbody>\n",
       "    <tr>\n",
       "      <th>0</th>\n",
       "      <td>00009a90ce7ec2b3e52bbffe7388dbc5850b3a6a</td>\n",
       "      <td>A3SLPTXAYO9RVW</td>\n",
       "    </tr>\n",
       "    <tr>\n",
       "      <th>1</th>\n",
       "      <td>00009a90ce7ec2b3e52bbffe7388dbc5850b3a6a</td>\n",
       "      <td>A3UY0YF90X0XLI</td>\n",
       "    </tr>\n",
       "    <tr>\n",
       "      <th>2</th>\n",
       "      <td>00009a90ce7ec2b3e52bbffe7388dbc5850b3a6a</td>\n",
       "      <td>AAT1C3DBIYJRX</td>\n",
       "    </tr>\n",
       "    <tr>\n",
       "      <th>3</th>\n",
       "      <td>000150213d9711862314abfa413efebcbe3339bf</td>\n",
       "      <td>A18T7E73TNGOKP</td>\n",
       "    </tr>\n",
       "    <tr>\n",
       "      <th>4</th>\n",
       "      <td>000150213d9711862314abfa413efebcbe3339bf</td>\n",
       "      <td>A23TDYCT5HS5XV</td>\n",
       "    </tr>\n",
       "  </tbody>\n",
       "</table>\n",
       "</div>"
      ],
      "text/plain": [
       "                                       item         user_id\n",
       "0  00009a90ce7ec2b3e52bbffe7388dbc5850b3a6a  A3SLPTXAYO9RVW\n",
       "1  00009a90ce7ec2b3e52bbffe7388dbc5850b3a6a  A3UY0YF90X0XLI\n",
       "2  00009a90ce7ec2b3e52bbffe7388dbc5850b3a6a   AAT1C3DBIYJRX\n",
       "3  000150213d9711862314abfa413efebcbe3339bf  A18T7E73TNGOKP\n",
       "4  000150213d9711862314abfa413efebcbe3339bf  A23TDYCT5HS5XV"
      ]
     },
     "execution_count": 2,
     "metadata": {},
     "output_type": "execute_result"
    }
   ],
   "source": [
    "test.head()"
   ]
  },
  {
   "cell_type": "code",
   "execution_count": null,
   "metadata": {
    "collapsed": false
   },
   "outputs": [],
   "source": [
    "# corpus=train[train.groupby('user_id').rating.transform(len)>1]\n",
    "\n",
    "# from sklearn.cross_validation import StratifiedShuffleSplit\n",
    "# sss=StratifiedShuffleSplit(corpus['rating'].tolist(), 1, test_size=0.2, random_state=100)\n",
    "\n",
    "# train_index, test_index =list(*sss)\n",
    "# X_train=corpus.iloc[train_index]\n",
    "# X_test=corpus.iloc[test_index]\n",
    "# X_train.head()"
   ]
  },
  {
   "cell_type": "markdown",
   "metadata": {},
   "source": [
    "# Start"
   ]
  },
  {
   "cell_type": "code",
   "execution_count": 3,
   "metadata": {
    "collapsed": true
   },
   "outputs": [],
   "source": [
    "# global_mu = mean of all ratings\n",
    "# item_mu = mean of the item's ratings\n",
    "# user_mu = mean of the user's ratings\n",
    "\n",
    "# rating(item, user) = clamp(item_mu - global_mu + user_mu, 1,10)\n",
    "\n",
    "\n",
    "# baseline(user,item) = user-plus-item-mean(user,item)\n",
    "# residual(user,item) = true_rating(user,item)-baseline(user,item)\n",
    "# pred_residual(user,item) = matrix_factorization(user,item) // trained on residual\n",
    "# pred_final(user,item) = pred_residual(user,item) + baseline(user,item)\n",
    "# error = rmse(pred_final, true_rating)\n",
    "\n",
    "\n",
    "global_mu = train.rating.mean()\n",
    "gb_item = train.groupby('item').mean()\n",
    "gb_user = train.groupby('user_id').mean()"
   ]
  },
  {
   "cell_type": "code",
   "execution_count": 4,
   "metadata": {
    "collapsed": false
   },
   "outputs": [
    {
     "name": "stdout",
     "output_type": "stream",
     "text": [
      "(6294416, 4)\n"
     ]
    },
    {
     "data": {
      "text/html": [
       "<div>\n",
       "<table border=\"1\" class=\"dataframe\">\n",
       "  <thead>\n",
       "    <tr style=\"text-align: right;\">\n",
       "      <th></th>\n",
       "      <th>item</th>\n",
       "      <th>user_id</th>\n",
       "      <th>rating_x</th>\n",
       "      <th>rating_y</th>\n",
       "    </tr>\n",
       "  </thead>\n",
       "  <tbody>\n",
       "    <tr>\n",
       "      <th>0</th>\n",
       "      <td>00009a90ce7ec2b3e52bbffe7388dbc5850b3a6a</td>\n",
       "      <td>A079789010EVSPIBCSWFO</td>\n",
       "      <td>6</td>\n",
       "      <td>6.016018</td>\n",
       "    </tr>\n",
       "    <tr>\n",
       "      <th>1</th>\n",
       "      <td>00009a90ce7ec2b3e52bbffe7388dbc5850b3a6a</td>\n",
       "      <td>A13U02TNYRFNOI</td>\n",
       "      <td>6</td>\n",
       "      <td>6.339895</td>\n",
       "    </tr>\n",
       "    <tr>\n",
       "      <th>2</th>\n",
       "      <td>00009a90ce7ec2b3e52bbffe7388dbc5850b3a6a</td>\n",
       "      <td>A1QYORNO0GY308</td>\n",
       "      <td>5</td>\n",
       "      <td>5.164169</td>\n",
       "    </tr>\n",
       "    <tr>\n",
       "      <th>3</th>\n",
       "      <td>00009a90ce7ec2b3e52bbffe7388dbc5850b3a6a</td>\n",
       "      <td>A1SUU1QIRDZXJC</td>\n",
       "      <td>1</td>\n",
       "      <td>2.923272</td>\n",
       "    </tr>\n",
       "    <tr>\n",
       "      <th>4</th>\n",
       "      <td>00009a90ce7ec2b3e52bbffe7388dbc5850b3a6a</td>\n",
       "      <td>A2ELH6CUC5Y8J4</td>\n",
       "      <td>3</td>\n",
       "      <td>4.313184</td>\n",
       "    </tr>\n",
       "  </tbody>\n",
       "</table>\n",
       "</div>"
      ],
      "text/plain": [
       "                                       item                user_id  rating_x  \\\n",
       "0  00009a90ce7ec2b3e52bbffe7388dbc5850b3a6a  A079789010EVSPIBCSWFO         6   \n",
       "1  00009a90ce7ec2b3e52bbffe7388dbc5850b3a6a         A13U02TNYRFNOI         6   \n",
       "2  00009a90ce7ec2b3e52bbffe7388dbc5850b3a6a         A1QYORNO0GY308         5   \n",
       "3  00009a90ce7ec2b3e52bbffe7388dbc5850b3a6a         A1SUU1QIRDZXJC         1   \n",
       "4  00009a90ce7ec2b3e52bbffe7388dbc5850b3a6a         A2ELH6CUC5Y8J4         3   \n",
       "\n",
       "   rating_y  \n",
       "0  6.016018  \n",
       "1  6.339895  \n",
       "2  5.164169  \n",
       "3  2.923272  \n",
       "4  4.313184  "
      ]
     },
     "execution_count": 4,
     "metadata": {},
     "output_type": "execute_result"
    }
   ],
   "source": [
    "train_user_merge = pd.merge(train, gb_user, left_on='user_id', right_index=True, how = 'left')\n",
    "print train_user_merge.shape\n",
    "train_user_merge.head()"
   ]
  },
  {
   "cell_type": "code",
   "execution_count": 5,
   "metadata": {
    "collapsed": false
   },
   "outputs": [
    {
     "name": "stdout",
     "output_type": "stream",
     "text": [
      "(6294416, 6)\n"
     ]
    },
    {
     "data": {
      "text/html": [
       "<div>\n",
       "<table border=\"1\" class=\"dataframe\">\n",
       "  <thead>\n",
       "    <tr style=\"text-align: right;\">\n",
       "      <th></th>\n",
       "      <th>item</th>\n",
       "      <th>user_id</th>\n",
       "      <th>rating_x</th>\n",
       "      <th>rating_y</th>\n",
       "      <th>rating</th>\n",
       "      <th>global_mu</th>\n",
       "    </tr>\n",
       "  </thead>\n",
       "  <tbody>\n",
       "    <tr>\n",
       "      <th>0</th>\n",
       "      <td>00009a90ce7ec2b3e52bbffe7388dbc5850b3a6a</td>\n",
       "      <td>A079789010EVSPIBCSWFO</td>\n",
       "      <td>6</td>\n",
       "      <td>6.016018</td>\n",
       "      <td>5.5</td>\n",
       "      <td>5.598505</td>\n",
       "    </tr>\n",
       "    <tr>\n",
       "      <th>1</th>\n",
       "      <td>00009a90ce7ec2b3e52bbffe7388dbc5850b3a6a</td>\n",
       "      <td>A13U02TNYRFNOI</td>\n",
       "      <td>6</td>\n",
       "      <td>6.339895</td>\n",
       "      <td>5.5</td>\n",
       "      <td>5.598505</td>\n",
       "    </tr>\n",
       "    <tr>\n",
       "      <th>2</th>\n",
       "      <td>00009a90ce7ec2b3e52bbffe7388dbc5850b3a6a</td>\n",
       "      <td>A1QYORNO0GY308</td>\n",
       "      <td>5</td>\n",
       "      <td>5.164169</td>\n",
       "      <td>5.5</td>\n",
       "      <td>5.598505</td>\n",
       "    </tr>\n",
       "    <tr>\n",
       "      <th>3</th>\n",
       "      <td>00009a90ce7ec2b3e52bbffe7388dbc5850b3a6a</td>\n",
       "      <td>A1SUU1QIRDZXJC</td>\n",
       "      <td>1</td>\n",
       "      <td>2.923272</td>\n",
       "      <td>5.5</td>\n",
       "      <td>5.598505</td>\n",
       "    </tr>\n",
       "    <tr>\n",
       "      <th>4</th>\n",
       "      <td>00009a90ce7ec2b3e52bbffe7388dbc5850b3a6a</td>\n",
       "      <td>A2ELH6CUC5Y8J4</td>\n",
       "      <td>3</td>\n",
       "      <td>4.313184</td>\n",
       "      <td>5.5</td>\n",
       "      <td>5.598505</td>\n",
       "    </tr>\n",
       "  </tbody>\n",
       "</table>\n",
       "</div>"
      ],
      "text/plain": [
       "                                       item                user_id  rating_x  \\\n",
       "0  00009a90ce7ec2b3e52bbffe7388dbc5850b3a6a  A079789010EVSPIBCSWFO         6   \n",
       "1  00009a90ce7ec2b3e52bbffe7388dbc5850b3a6a         A13U02TNYRFNOI         6   \n",
       "2  00009a90ce7ec2b3e52bbffe7388dbc5850b3a6a         A1QYORNO0GY308         5   \n",
       "3  00009a90ce7ec2b3e52bbffe7388dbc5850b3a6a         A1SUU1QIRDZXJC         1   \n",
       "4  00009a90ce7ec2b3e52bbffe7388dbc5850b3a6a         A2ELH6CUC5Y8J4         3   \n",
       "\n",
       "   rating_y  rating  global_mu  \n",
       "0  6.016018     5.5   5.598505  \n",
       "1  6.339895     5.5   5.598505  \n",
       "2  5.164169     5.5   5.598505  \n",
       "3  2.923272     5.5   5.598505  \n",
       "4  4.313184     5.5   5.598505  "
      ]
     },
     "execution_count": 5,
     "metadata": {},
     "output_type": "execute_result"
    }
   ],
   "source": [
    "dat = pd.merge(train_user_merge, gb_item, left_on='item', right_index=True, how = 'left')\n",
    "dat['global_mu'] = global_mu\n",
    "print dat.shape\n",
    "dat.head()"
   ]
  },
  {
   "cell_type": "code",
   "execution_count": 6,
   "metadata": {
    "collapsed": false
   },
   "outputs": [
    {
     "data": {
      "text/html": [
       "<div>\n",
       "<table border=\"1\" class=\"dataframe\">\n",
       "  <thead>\n",
       "    <tr style=\"text-align: right;\">\n",
       "      <th></th>\n",
       "      <th>item</th>\n",
       "      <th>user_id</th>\n",
       "      <th>rating</th>\n",
       "      <th>user_mu</th>\n",
       "      <th>item_mu</th>\n",
       "      <th>global_mu</th>\n",
       "    </tr>\n",
       "  </thead>\n",
       "  <tbody>\n",
       "    <tr>\n",
       "      <th>0</th>\n",
       "      <td>00009a90ce7ec2b3e52bbffe7388dbc5850b3a6a</td>\n",
       "      <td>A079789010EVSPIBCSWFO</td>\n",
       "      <td>6</td>\n",
       "      <td>6.016018</td>\n",
       "      <td>5.5</td>\n",
       "      <td>5.598505</td>\n",
       "    </tr>\n",
       "    <tr>\n",
       "      <th>1</th>\n",
       "      <td>00009a90ce7ec2b3e52bbffe7388dbc5850b3a6a</td>\n",
       "      <td>A13U02TNYRFNOI</td>\n",
       "      <td>6</td>\n",
       "      <td>6.339895</td>\n",
       "      <td>5.5</td>\n",
       "      <td>5.598505</td>\n",
       "    </tr>\n",
       "    <tr>\n",
       "      <th>2</th>\n",
       "      <td>00009a90ce7ec2b3e52bbffe7388dbc5850b3a6a</td>\n",
       "      <td>A1QYORNO0GY308</td>\n",
       "      <td>5</td>\n",
       "      <td>5.164169</td>\n",
       "      <td>5.5</td>\n",
       "      <td>5.598505</td>\n",
       "    </tr>\n",
       "    <tr>\n",
       "      <th>3</th>\n",
       "      <td>00009a90ce7ec2b3e52bbffe7388dbc5850b3a6a</td>\n",
       "      <td>A1SUU1QIRDZXJC</td>\n",
       "      <td>1</td>\n",
       "      <td>2.923272</td>\n",
       "      <td>5.5</td>\n",
       "      <td>5.598505</td>\n",
       "    </tr>\n",
       "    <tr>\n",
       "      <th>4</th>\n",
       "      <td>00009a90ce7ec2b3e52bbffe7388dbc5850b3a6a</td>\n",
       "      <td>A2ELH6CUC5Y8J4</td>\n",
       "      <td>3</td>\n",
       "      <td>4.313184</td>\n",
       "      <td>5.5</td>\n",
       "      <td>5.598505</td>\n",
       "    </tr>\n",
       "  </tbody>\n",
       "</table>\n",
       "</div>"
      ],
      "text/plain": [
       "                                       item                user_id  rating  \\\n",
       "0  00009a90ce7ec2b3e52bbffe7388dbc5850b3a6a  A079789010EVSPIBCSWFO       6   \n",
       "1  00009a90ce7ec2b3e52bbffe7388dbc5850b3a6a         A13U02TNYRFNOI       6   \n",
       "2  00009a90ce7ec2b3e52bbffe7388dbc5850b3a6a         A1QYORNO0GY308       5   \n",
       "3  00009a90ce7ec2b3e52bbffe7388dbc5850b3a6a         A1SUU1QIRDZXJC       1   \n",
       "4  00009a90ce7ec2b3e52bbffe7388dbc5850b3a6a         A2ELH6CUC5Y8J4       3   \n",
       "\n",
       "    user_mu  item_mu  global_mu  \n",
       "0  6.016018      5.5   5.598505  \n",
       "1  6.339895      5.5   5.598505  \n",
       "2  5.164169      5.5   5.598505  \n",
       "3  2.923272      5.5   5.598505  \n",
       "4  4.313184      5.5   5.598505  "
      ]
     },
     "execution_count": 6,
     "metadata": {},
     "output_type": "execute_result"
    }
   ],
   "source": [
    "dat.columns = ['item', 'user_id', 'rating', 'user_mu', 'item_mu', 'global_mu']\n",
    "dat.head()"
   ]
  },
  {
   "cell_type": "code",
   "execution_count": 7,
   "metadata": {
    "collapsed": false
   },
   "outputs": [
    {
     "data": {
      "text/html": [
       "<div>\n",
       "<table border=\"1\" class=\"dataframe\">\n",
       "  <thead>\n",
       "    <tr style=\"text-align: right;\">\n",
       "      <th></th>\n",
       "      <th>item</th>\n",
       "      <th>user_id</th>\n",
       "    </tr>\n",
       "  </thead>\n",
       "  <tbody>\n",
       "    <tr>\n",
       "      <th>0</th>\n",
       "      <td>00009a90ce7ec2b3e52bbffe7388dbc5850b3a6a</td>\n",
       "      <td>A3SLPTXAYO9RVW</td>\n",
       "    </tr>\n",
       "    <tr>\n",
       "      <th>1</th>\n",
       "      <td>00009a90ce7ec2b3e52bbffe7388dbc5850b3a6a</td>\n",
       "      <td>A3UY0YF90X0XLI</td>\n",
       "    </tr>\n",
       "    <tr>\n",
       "      <th>2</th>\n",
       "      <td>00009a90ce7ec2b3e52bbffe7388dbc5850b3a6a</td>\n",
       "      <td>AAT1C3DBIYJRX</td>\n",
       "    </tr>\n",
       "    <tr>\n",
       "      <th>3</th>\n",
       "      <td>000150213d9711862314abfa413efebcbe3339bf</td>\n",
       "      <td>A18T7E73TNGOKP</td>\n",
       "    </tr>\n",
       "    <tr>\n",
       "      <th>4</th>\n",
       "      <td>000150213d9711862314abfa413efebcbe3339bf</td>\n",
       "      <td>A23TDYCT5HS5XV</td>\n",
       "    </tr>\n",
       "  </tbody>\n",
       "</table>\n",
       "</div>"
      ],
      "text/plain": [
       "                                       item         user_id\n",
       "0  00009a90ce7ec2b3e52bbffe7388dbc5850b3a6a  A3SLPTXAYO9RVW\n",
       "1  00009a90ce7ec2b3e52bbffe7388dbc5850b3a6a  A3UY0YF90X0XLI\n",
       "2  00009a90ce7ec2b3e52bbffe7388dbc5850b3a6a   AAT1C3DBIYJRX\n",
       "3  000150213d9711862314abfa413efebcbe3339bf  A18T7E73TNGOKP\n",
       "4  000150213d9711862314abfa413efebcbe3339bf  A23TDYCT5HS5XV"
      ]
     },
     "execution_count": 7,
     "metadata": {},
     "output_type": "execute_result"
    }
   ],
   "source": [
    "test.head()"
   ]
  },
  {
   "cell_type": "code",
   "execution_count": 11,
   "metadata": {
    "collapsed": false
   },
   "outputs": [
    {
     "data": {
      "text/html": [
       "<div>\n",
       "<table border=\"1\" class=\"dataframe\">\n",
       "  <thead>\n",
       "    <tr style=\"text-align: right;\">\n",
       "      <th></th>\n",
       "      <th>item</th>\n",
       "      <th>user_id</th>\n",
       "      <th>rating</th>\n",
       "      <th>user_mu</th>\n",
       "      <th>item_mu</th>\n",
       "      <th>global_mu</th>\n",
       "    </tr>\n",
       "  </thead>\n",
       "  <tbody>\n",
       "    <tr>\n",
       "      <th>0</th>\n",
       "      <td>000685e93f5f1a55ef2a5328856c367a0e5773db</td>\n",
       "      <td>A3SPYHC5V0ZPX1</td>\n",
       "      <td>2</td>\n",
       "      <td>2.140241</td>\n",
       "      <td>4.00000</td>\n",
       "      <td>5.598505</td>\n",
       "    </tr>\n",
       "    <tr>\n",
       "      <th>1</th>\n",
       "      <td>00094ea4e7a84b01c59694f49dd6cac593c44f69</td>\n",
       "      <td>A3EF8VHGV55GAC</td>\n",
       "      <td>10</td>\n",
       "      <td>5.591795</td>\n",
       "      <td>5.90625</td>\n",
       "      <td>5.598505</td>\n",
       "    </tr>\n",
       "    <tr>\n",
       "      <th>2</th>\n",
       "      <td>00094ea4e7a84b01c59694f49dd6cac593c44f69</td>\n",
       "      <td>A3UBB1LJKDQGZP</td>\n",
       "      <td>6</td>\n",
       "      <td>4.885887</td>\n",
       "      <td>5.90625</td>\n",
       "      <td>5.598505</td>\n",
       "    </tr>\n",
       "    <tr>\n",
       "      <th>3</th>\n",
       "      <td>00094ea4e7a84b01c59694f49dd6cac593c44f69</td>\n",
       "      <td>AD1ILDUXZHASF</td>\n",
       "      <td>6</td>\n",
       "      <td>5.025196</td>\n",
       "      <td>5.90625</td>\n",
       "      <td>5.598505</td>\n",
       "    </tr>\n",
       "    <tr>\n",
       "      <th>4</th>\n",
       "      <td>00094ea4e7a84b01c59694f49dd6cac593c44f69</td>\n",
       "      <td>AD1ILDUXZHASF</td>\n",
       "      <td>7</td>\n",
       "      <td>5.025196</td>\n",
       "      <td>5.90625</td>\n",
       "      <td>5.598505</td>\n",
       "    </tr>\n",
       "  </tbody>\n",
       "</table>\n",
       "</div>"
      ],
      "text/plain": [
       "                                       item         user_id  rating   user_mu  \\\n",
       "0  000685e93f5f1a55ef2a5328856c367a0e5773db  A3SPYHC5V0ZPX1       2  2.140241   \n",
       "1  00094ea4e7a84b01c59694f49dd6cac593c44f69  A3EF8VHGV55GAC      10  5.591795   \n",
       "2  00094ea4e7a84b01c59694f49dd6cac593c44f69  A3UBB1LJKDQGZP       6  4.885887   \n",
       "3  00094ea4e7a84b01c59694f49dd6cac593c44f69   AD1ILDUXZHASF       6  5.025196   \n",
       "4  00094ea4e7a84b01c59694f49dd6cac593c44f69   AD1ILDUXZHASF       7  5.025196   \n",
       "\n",
       "   item_mu  global_mu  \n",
       "0  4.00000   5.598505  \n",
       "1  5.90625   5.598505  \n",
       "2  5.90625   5.598505  \n",
       "3  5.90625   5.598505  \n",
       "4  5.90625   5.598505  "
      ]
     },
     "execution_count": 11,
     "metadata": {},
     "output_type": "execute_result"
    }
   ],
   "source": [
    "play = pd.merge(dat, test[['item', 'user_id']], left_on=['item', 'user_id'], right_on=['item', 'user_id'])\n",
    "play.head()"
   ]
  },
  {
   "cell_type": "code",
   "execution_count": 8,
   "metadata": {
    "collapsed": true
   },
   "outputs": [],
   "source": [
    "new_test = pd.merge(dat, test[['item', 'user_id']], left_on=['item', 'user_id'], right_on=['item', 'user_id'], how = 'right')"
   ]
  },
  {
   "cell_type": "code",
   "execution_count": 10,
   "metadata": {
    "collapsed": false
   },
   "outputs": [
    {
     "data": {
      "text/html": [
       "<div>\n",
       "<table border=\"1\" class=\"dataframe\">\n",
       "  <thead>\n",
       "    <tr style=\"text-align: right;\">\n",
       "      <th></th>\n",
       "      <th>item</th>\n",
       "      <th>user_id</th>\n",
       "      <th>rating</th>\n",
       "      <th>user_mu</th>\n",
       "      <th>item_mu</th>\n",
       "      <th>global_mu</th>\n",
       "    </tr>\n",
       "  </thead>\n",
       "  <tbody>\n",
       "    <tr>\n",
       "      <th>80</th>\n",
       "      <td>000685e93f5f1a55ef2a5328856c367a0e5773db</td>\n",
       "      <td>A1475JY5KY2EF7</td>\n",
       "      <td>5</td>\n",
       "      <td>5.737519</td>\n",
       "      <td>4.0</td>\n",
       "      <td>5.598505</td>\n",
       "    </tr>\n",
       "    <tr>\n",
       "      <th>81</th>\n",
       "      <td>000685e93f5f1a55ef2a5328856c367a0e5773db</td>\n",
       "      <td>A171UMOFDHIO58</td>\n",
       "      <td>4</td>\n",
       "      <td>5.073614</td>\n",
       "      <td>4.0</td>\n",
       "      <td>5.598505</td>\n",
       "    </tr>\n",
       "    <tr>\n",
       "      <th>82</th>\n",
       "      <td>000685e93f5f1a55ef2a5328856c367a0e5773db</td>\n",
       "      <td>A19GSU0ST2SIMW</td>\n",
       "      <td>6</td>\n",
       "      <td>6.555556</td>\n",
       "      <td>4.0</td>\n",
       "      <td>5.598505</td>\n",
       "    </tr>\n",
       "    <tr>\n",
       "      <th>83</th>\n",
       "      <td>000685e93f5f1a55ef2a5328856c367a0e5773db</td>\n",
       "      <td>A1FKDB1SJ3YL7A</td>\n",
       "      <td>3</td>\n",
       "      <td>3.490685</td>\n",
       "      <td>4.0</td>\n",
       "      <td>5.598505</td>\n",
       "    </tr>\n",
       "    <tr>\n",
       "      <th>84</th>\n",
       "      <td>000685e93f5f1a55ef2a5328856c367a0e5773db</td>\n",
       "      <td>A1XZ40T91S5YFU</td>\n",
       "      <td>4</td>\n",
       "      <td>5.618644</td>\n",
       "      <td>4.0</td>\n",
       "      <td>5.598505</td>\n",
       "    </tr>\n",
       "    <tr>\n",
       "      <th>85</th>\n",
       "      <td>000685e93f5f1a55ef2a5328856c367a0e5773db</td>\n",
       "      <td>A32QBXDPHHSTOD</td>\n",
       "      <td>4</td>\n",
       "      <td>5.447761</td>\n",
       "      <td>4.0</td>\n",
       "      <td>5.598505</td>\n",
       "    </tr>\n",
       "    <tr>\n",
       "      <th>86</th>\n",
       "      <td>000685e93f5f1a55ef2a5328856c367a0e5773db</td>\n",
       "      <td>A34CZHJI34VWMZ</td>\n",
       "      <td>4</td>\n",
       "      <td>6.609380</td>\n",
       "      <td>4.0</td>\n",
       "      <td>5.598505</td>\n",
       "    </tr>\n",
       "    <tr>\n",
       "      <th>87</th>\n",
       "      <td>000685e93f5f1a55ef2a5328856c367a0e5773db</td>\n",
       "      <td>A3862RIFFUV141</td>\n",
       "      <td>2</td>\n",
       "      <td>5.432889</td>\n",
       "      <td>4.0</td>\n",
       "      <td>5.598505</td>\n",
       "    </tr>\n",
       "    <tr>\n",
       "      <th>88</th>\n",
       "      <td>000685e93f5f1a55ef2a5328856c367a0e5773db</td>\n",
       "      <td>A3DWNVEWGRQMJG</td>\n",
       "      <td>5</td>\n",
       "      <td>6.297424</td>\n",
       "      <td>4.0</td>\n",
       "      <td>5.598505</td>\n",
       "    </tr>\n",
       "    <tr>\n",
       "      <th>89</th>\n",
       "      <td>000685e93f5f1a55ef2a5328856c367a0e5773db</td>\n",
       "      <td>A3SPYHC5V0ZPX1</td>\n",
       "      <td>2</td>\n",
       "      <td>2.140241</td>\n",
       "      <td>4.0</td>\n",
       "      <td>5.598505</td>\n",
       "    </tr>\n",
       "    <tr>\n",
       "      <th>90</th>\n",
       "      <td>000685e93f5f1a55ef2a5328856c367a0e5773db</td>\n",
       "      <td>A67CW585C2WIL</td>\n",
       "      <td>4</td>\n",
       "      <td>4.800768</td>\n",
       "      <td>4.0</td>\n",
       "      <td>5.598505</td>\n",
       "    </tr>\n",
       "    <tr>\n",
       "      <th>91</th>\n",
       "      <td>000685e93f5f1a55ef2a5328856c367a0e5773db</td>\n",
       "      <td>ALSZWCXEKEPGX</td>\n",
       "      <td>4</td>\n",
       "      <td>5.401220</td>\n",
       "      <td>4.0</td>\n",
       "      <td>5.598505</td>\n",
       "    </tr>\n",
       "    <tr>\n",
       "      <th>92</th>\n",
       "      <td>000685e93f5f1a55ef2a5328856c367a0e5773db</td>\n",
       "      <td>ARQM0NUW30L4F</td>\n",
       "      <td>5</td>\n",
       "      <td>5.879800</td>\n",
       "      <td>4.0</td>\n",
       "      <td>5.598505</td>\n",
       "    </tr>\n",
       "  </tbody>\n",
       "</table>\n",
       "</div>"
      ],
      "text/plain": [
       "                                        item         user_id  rating  \\\n",
       "80  000685e93f5f1a55ef2a5328856c367a0e5773db  A1475JY5KY2EF7       5   \n",
       "81  000685e93f5f1a55ef2a5328856c367a0e5773db  A171UMOFDHIO58       4   \n",
       "82  000685e93f5f1a55ef2a5328856c367a0e5773db  A19GSU0ST2SIMW       6   \n",
       "83  000685e93f5f1a55ef2a5328856c367a0e5773db  A1FKDB1SJ3YL7A       3   \n",
       "84  000685e93f5f1a55ef2a5328856c367a0e5773db  A1XZ40T91S5YFU       4   \n",
       "85  000685e93f5f1a55ef2a5328856c367a0e5773db  A32QBXDPHHSTOD       4   \n",
       "86  000685e93f5f1a55ef2a5328856c367a0e5773db  A34CZHJI34VWMZ       4   \n",
       "87  000685e93f5f1a55ef2a5328856c367a0e5773db  A3862RIFFUV141       2   \n",
       "88  000685e93f5f1a55ef2a5328856c367a0e5773db  A3DWNVEWGRQMJG       5   \n",
       "89  000685e93f5f1a55ef2a5328856c367a0e5773db  A3SPYHC5V0ZPX1       2   \n",
       "90  000685e93f5f1a55ef2a5328856c367a0e5773db   A67CW585C2WIL       4   \n",
       "91  000685e93f5f1a55ef2a5328856c367a0e5773db   ALSZWCXEKEPGX       4   \n",
       "92  000685e93f5f1a55ef2a5328856c367a0e5773db   ARQM0NUW30L4F       5   \n",
       "\n",
       "     user_mu  item_mu  global_mu  \n",
       "80  5.737519      4.0   5.598505  \n",
       "81  5.073614      4.0   5.598505  \n",
       "82  6.555556      4.0   5.598505  \n",
       "83  3.490685      4.0   5.598505  \n",
       "84  5.618644      4.0   5.598505  \n",
       "85  5.447761      4.0   5.598505  \n",
       "86  6.609380      4.0   5.598505  \n",
       "87  5.432889      4.0   5.598505  \n",
       "88  6.297424      4.0   5.598505  \n",
       "89  2.140241      4.0   5.598505  \n",
       "90  4.800768      4.0   5.598505  \n",
       "91  5.401220      4.0   5.598505  \n",
       "92  5.879800      4.0   5.598505  "
      ]
     },
     "execution_count": 10,
     "metadata": {},
     "output_type": "execute_result"
    }
   ],
   "source": [
    "dat[dat.item == '000685e93f5f1a55ef2a5328856c367a0e5773db']"
   ]
  },
  {
   "cell_type": "code",
   "execution_count": 9,
   "metadata": {
    "collapsed": false
   },
   "outputs": [
    {
     "data": {
      "text/html": [
       "<div>\n",
       "<table border=\"1\" class=\"dataframe\">\n",
       "  <thead>\n",
       "    <tr style=\"text-align: right;\">\n",
       "      <th></th>\n",
       "      <th>item</th>\n",
       "      <th>user_id</th>\n",
       "      <th>rating</th>\n",
       "      <th>user_mu</th>\n",
       "      <th>item_mu</th>\n",
       "      <th>global_mu</th>\n",
       "    </tr>\n",
       "  </thead>\n",
       "  <tbody>\n",
       "    <tr>\n",
       "      <th>0</th>\n",
       "      <td>000685e93f5f1a55ef2a5328856c367a0e5773db</td>\n",
       "      <td>A3SPYHC5V0ZPX1</td>\n",
       "      <td>2.0</td>\n",
       "      <td>2.140241</td>\n",
       "      <td>4.00000</td>\n",
       "      <td>5.598505</td>\n",
       "    </tr>\n",
       "    <tr>\n",
       "      <th>1</th>\n",
       "      <td>00094ea4e7a84b01c59694f49dd6cac593c44f69</td>\n",
       "      <td>A3EF8VHGV55GAC</td>\n",
       "      <td>10.0</td>\n",
       "      <td>5.591795</td>\n",
       "      <td>5.90625</td>\n",
       "      <td>5.598505</td>\n",
       "    </tr>\n",
       "    <tr>\n",
       "      <th>2</th>\n",
       "      <td>00094ea4e7a84b01c59694f49dd6cac593c44f69</td>\n",
       "      <td>A3UBB1LJKDQGZP</td>\n",
       "      <td>6.0</td>\n",
       "      <td>4.885887</td>\n",
       "      <td>5.90625</td>\n",
       "      <td>5.598505</td>\n",
       "    </tr>\n",
       "    <tr>\n",
       "      <th>3</th>\n",
       "      <td>00094ea4e7a84b01c59694f49dd6cac593c44f69</td>\n",
       "      <td>AD1ILDUXZHASF</td>\n",
       "      <td>6.0</td>\n",
       "      <td>5.025196</td>\n",
       "      <td>5.90625</td>\n",
       "      <td>5.598505</td>\n",
       "    </tr>\n",
       "    <tr>\n",
       "      <th>4</th>\n",
       "      <td>00094ea4e7a84b01c59694f49dd6cac593c44f69</td>\n",
       "      <td>AD1ILDUXZHASF</td>\n",
       "      <td>7.0</td>\n",
       "      <td>5.025196</td>\n",
       "      <td>5.90625</td>\n",
       "      <td>5.598505</td>\n",
       "    </tr>\n",
       "  </tbody>\n",
       "</table>\n",
       "</div>"
      ],
      "text/plain": [
       "                                       item         user_id  rating   user_mu  \\\n",
       "0  000685e93f5f1a55ef2a5328856c367a0e5773db  A3SPYHC5V0ZPX1     2.0  2.140241   \n",
       "1  00094ea4e7a84b01c59694f49dd6cac593c44f69  A3EF8VHGV55GAC    10.0  5.591795   \n",
       "2  00094ea4e7a84b01c59694f49dd6cac593c44f69  A3UBB1LJKDQGZP     6.0  4.885887   \n",
       "3  00094ea4e7a84b01c59694f49dd6cac593c44f69   AD1ILDUXZHASF     6.0  5.025196   \n",
       "4  00094ea4e7a84b01c59694f49dd6cac593c44f69   AD1ILDUXZHASF     7.0  5.025196   \n",
       "\n",
       "   item_mu  global_mu  \n",
       "0  4.00000   5.598505  \n",
       "1  5.90625   5.598505  \n",
       "2  5.90625   5.598505  \n",
       "3  5.90625   5.598505  \n",
       "4  5.90625   5.598505  "
      ]
     },
     "execution_count": 9,
     "metadata": {},
     "output_type": "execute_result"
    }
   ],
   "source": [
    "new_test.head()"
   ]
  },
  {
   "cell_type": "code",
   "execution_count": null,
   "metadata": {
    "collapsed": false
   },
   "outputs": [],
   "source": [
    "dat['prediction'] = np.clip(dat.item_mu - dat.global_mu + dat.user_mu, 1, 10)\n",
    "new_test['prediction'] = np.clip(new_test.item_mu - new_test.global_mu + new_test.user_mu, 1, 10)\n",
    "new_test.head()"
   ]
  },
  {
   "cell_type": "code",
   "execution_count": null,
   "metadata": {
    "collapsed": false
   },
   "outputs": [],
   "source": [
    "dat['residual'] = dat.rating - dat.prediction\n",
    "new_test['residual'] = new_test.rating - new_test.prediction\n",
    "dat.head()"
   ]
  },
  {
   "cell_type": "code",
   "execution_count": null,
   "metadata": {
    "collapsed": false
   },
   "outputs": [],
   "source": [
    "from sklearn.preprocessing import LabelEncoder\n",
    "\n",
    "item_label_encoder = LabelEncoder()\n",
    "user_label_encoder = LabelEncoder()\n",
    "\n",
    "item_int = item_label_encoder.fit_transform(dat.item)\n",
    "user_int = user_label_encoder.fit_transform(dat.user_id)\n",
    "\n",
    "dat['item_int'] = item_int\n",
    "dat['user_int'] = user_int"
   ]
  },
  {
   "cell_type": "code",
   "execution_count": null,
   "metadata": {
    "collapsed": true
   },
   "outputs": [],
   "source": [
    "item_label_encoder = LabelEncoder()\n",
    "user_label_encoder = LabelEncoder()\n",
    "\n",
    "item_int = item_label_encoder.fit_transform(new_test.item)\n",
    "user_int = user_label_encoder.fit_transform(new_test.user_id)\n",
    "\n",
    "new_test['item_int'] = item_int\n",
    "new_test['user_int'] = user_int"
   ]
  },
  {
   "cell_type": "code",
   "execution_count": null,
   "metadata": {
    "collapsed": false
   },
   "outputs": [],
   "source": [
    "print dat.shape\n",
    "dat.head()"
   ]
  },
  {
   "cell_type": "code",
   "execution_count": null,
   "metadata": {
    "collapsed": false
   },
   "outputs": [],
   "source": [
    "new_test.head()"
   ]
  },
  {
   "cell_type": "code",
   "execution_count": null,
   "metadata": {
    "collapsed": false
   },
   "outputs": [],
   "source": [
    "import graphlab\n",
    "\n",
    "train_data = graphlab.SFrame(dat)\n",
    "testing_data = graphlab.SFrame(new_test)\n",
    "train_data.head()"
   ]
  },
  {
   "cell_type": "code",
   "execution_count": null,
   "metadata": {
    "collapsed": false
   },
   "outputs": [],
   "source": [
    "# popularity_model = graphlab.popularity_recommender.create(train_data, user_id='user_int', \n",
    "#                                                           item_id='item_int', target='residual')\n",
    "factor_matrix = graphlab.recommender.factorization_recommender.create(train_data, \n",
    "                                                    user_id='user_int', item_id='item_int', target='residual')"
   ]
  },
  {
   "cell_type": "code",
   "execution_count": null,
   "metadata": {
    "collapsed": false
   },
   "outputs": [],
   "source": [
    "# popularity_pred = popularity_model.predict(train_data)\n",
    "factor_pred = factor_matrix.predict(testing_data)"
   ]
  },
  {
   "cell_type": "code",
   "execution_count": null,
   "metadata": {
    "collapsed": false
   },
   "outputs": [],
   "source": [
    "# testing_data['resid_pred'] = np.array(popularity_pred)\n",
    "testing_data['resid_pred'] = np.array(factor_pred)"
   ]
  },
  {
   "cell_type": "code",
   "execution_count": null,
   "metadata": {
    "collapsed": false
   },
   "outputs": [],
   "source": [
    "testing_data.head()"
   ]
  },
  {
   "cell_type": "code",
   "execution_count": null,
   "metadata": {
    "collapsed": false
   },
   "outputs": [],
   "source": [
    "# pred_final(user,item) = pred_residual(user,item) + baseline(user,item)\n",
    "# new_dat = pd.DataFrame(train_data)"
   ]
  },
  {
   "cell_type": "code",
   "execution_count": null,
   "metadata": {
    "collapsed": true
   },
   "outputs": [],
   "source": [
    "testing_data['pred_final'] = testing_data['resid_pred'] + testing_data['prediction']"
   ]
  },
  {
   "cell_type": "code",
   "execution_count": null,
   "metadata": {
    "collapsed": false
   },
   "outputs": [],
   "source": [
    "testing_data.tail()"
   ]
  },
  {
   "cell_type": "code",
   "execution_count": null,
   "metadata": {
    "collapsed": true
   },
   "outputs": [],
   "source": [
    "no_na_test = testing_data.dropna()"
   ]
  },
  {
   "cell_type": "code",
   "execution_count": null,
   "metadata": {
    "collapsed": false
   },
   "outputs": [],
   "source": [
    "print no_na_test.shape\n",
    "no_na_test.head()"
   ]
  },
  {
   "cell_type": "code",
   "execution_count": null,
   "metadata": {
    "collapsed": true
   },
   "outputs": [],
   "source": [
    "from sklearn.metrics import mean_squared_error\n",
    "\n",
    "def RMSE(y_true, y_pred):\n",
    "    return np.sqrt(mean_squared_error(y_true, y_pred)) \n",
    "    "
   ]
  },
  {
   "cell_type": "code",
   "execution_count": null,
   "metadata": {
    "collapsed": false
   },
   "outputs": [],
   "source": [
    "y_true = np.array(no_na_test['rating'])\n",
    "y_pred = np.array(no_na_test['pred_final'])\n",
    "\n",
    "print RMSE(y_true, y_pred)"
   ]
  },
  {
   "cell_type": "code",
   "execution_count": null,
   "metadata": {
    "collapsed": true
   },
   "outputs": [],
   "source": [
    "df = testing_data.to_dataframe()"
   ]
  },
  {
   "cell_type": "code",
   "execution_count": null,
   "metadata": {
    "collapsed": false
   },
   "outputs": [],
   "source": [
    "df[['item', 'user_id', 'pred_final']].to_csv('data/user_item_resid_mf.csv', header = None, index = False)"
   ]
  },
  {
   "cell_type": "code",
   "execution_count": null,
   "metadata": {
    "collapsed": true
   },
   "outputs": [],
   "source": []
  }
 ],
 "metadata": {
  "kernelspec": {
   "display_name": "Python 2",
   "language": "python",
   "name": "python2"
  },
  "language_info": {
   "codemirror_mode": {
    "name": "ipython",
    "version": 2
   },
   "file_extension": ".py",
   "mimetype": "text/x-python",
   "name": "python",
   "nbconvert_exporter": "python",
   "pygments_lexer": "ipython2",
   "version": "2.7.12"
  }
 },
 "nbformat": 4,
 "nbformat_minor": 1
}
