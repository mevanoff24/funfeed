{
 "cells": [
  {
   "cell_type": "code",
   "execution_count": 1,
   "metadata": {
    "collapsed": false
   },
   "outputs": [
    {
     "data": {
      "text/html": [
       "<div>\n",
       "<table border=\"1\" class=\"dataframe\">\n",
       "  <thead>\n",
       "    <tr style=\"text-align: right;\">\n",
       "      <th></th>\n",
       "      <th>item</th>\n",
       "      <th>user_id</th>\n",
       "      <th>rating</th>\n",
       "    </tr>\n",
       "  </thead>\n",
       "  <tbody>\n",
       "    <tr>\n",
       "      <th>0</th>\n",
       "      <td>00009a90ce7ec2b3e52bbffe7388dbc5850b3a6a</td>\n",
       "      <td>A079789010EVSPIBCSWFO</td>\n",
       "      <td>6</td>\n",
       "    </tr>\n",
       "    <tr>\n",
       "      <th>1</th>\n",
       "      <td>00009a90ce7ec2b3e52bbffe7388dbc5850b3a6a</td>\n",
       "      <td>A13U02TNYRFNOI</td>\n",
       "      <td>6</td>\n",
       "    </tr>\n",
       "    <tr>\n",
       "      <th>2</th>\n",
       "      <td>00009a90ce7ec2b3e52bbffe7388dbc5850b3a6a</td>\n",
       "      <td>A1QYORNO0GY308</td>\n",
       "      <td>5</td>\n",
       "    </tr>\n",
       "    <tr>\n",
       "      <th>3</th>\n",
       "      <td>00009a90ce7ec2b3e52bbffe7388dbc5850b3a6a</td>\n",
       "      <td>A1SUU1QIRDZXJC</td>\n",
       "      <td>1</td>\n",
       "    </tr>\n",
       "    <tr>\n",
       "      <th>4</th>\n",
       "      <td>00009a90ce7ec2b3e52bbffe7388dbc5850b3a6a</td>\n",
       "      <td>A2ELH6CUC5Y8J4</td>\n",
       "      <td>3</td>\n",
       "    </tr>\n",
       "  </tbody>\n",
       "</table>\n",
       "</div>"
      ],
      "text/plain": [
       "                                       item                user_id  rating\n",
       "0  00009a90ce7ec2b3e52bbffe7388dbc5850b3a6a  A079789010EVSPIBCSWFO       6\n",
       "1  00009a90ce7ec2b3e52bbffe7388dbc5850b3a6a         A13U02TNYRFNOI       6\n",
       "2  00009a90ce7ec2b3e52bbffe7388dbc5850b3a6a         A1QYORNO0GY308       5\n",
       "3  00009a90ce7ec2b3e52bbffe7388dbc5850b3a6a         A1SUU1QIRDZXJC       1\n",
       "4  00009a90ce7ec2b3e52bbffe7388dbc5850b3a6a         A2ELH6CUC5Y8J4       3"
      ]
     },
     "execution_count": 1,
     "metadata": {},
     "output_type": "execute_result"
    }
   ],
   "source": [
    "import pandas as pd\n",
    "import numpy as np\n",
    "from sklearn.model_selection import train_test_split\n",
    "\n",
    "train = pd.read_csv('data/new_train.csv')\n",
    "\n",
    "col_names = ['hash', 'movie_rating', 'animals', 'cute', 'family', 'food', 'religion', 'witty', 'irony', \n",
    "             'dirty', 'language', 'nerdy', 'popculture', 'pun', 'technology', 'explicit(language)', 'fail', \n",
    "             'kids', 'money', 'school', 'work', 'dark', 'explicit(graphic)', 'health', 'relationship', \n",
    "             'drugs/alcohol', 'history', 'slapstick', 'math', 'political', 'racial', 'music', 'sports', 'science']\n",
    "\n",
    "meta = pd.read_csv('data/new_keywords.csv', names = col_names)\n",
    "train.head()"
   ]
  },
  {
   "cell_type": "code",
   "execution_count": 4,
   "metadata": {
    "collapsed": false
   },
   "outputs": [
    {
     "name": "stdout",
     "output_type": "stream",
     "text": [
      "<class 'pandas.core.frame.DataFrame'>\n",
      "RangeIndex: 73247 entries, 0 to 73246\n",
      "Data columns (total 34 columns):\n",
      "hash                  73247 non-null object\n",
      "movie_rating          73247 non-null float64\n",
      "animals               73247 non-null float64\n",
      "cute                  73247 non-null float64\n",
      "family                73247 non-null float64\n",
      "food                  73247 non-null float64\n",
      "religion              73247 non-null float64\n",
      "witty                 73247 non-null float64\n",
      "irony                 73247 non-null float64\n",
      "dirty                 73247 non-null float64\n",
      "language              73247 non-null float64\n",
      "nerdy                 73247 non-null float64\n",
      "popculture            73247 non-null float64\n",
      "pun                   73247 non-null float64\n",
      "technology            73247 non-null float64\n",
      "explicit(language)    73247 non-null float64\n",
      "fail                  73247 non-null float64\n",
      "kids                  73247 non-null float64\n",
      "money                 73247 non-null float64\n",
      "school                73247 non-null float64\n",
      "work                  73247 non-null float64\n",
      "dark                  73247 non-null float64\n",
      "explicit(graphic)     73247 non-null float64\n",
      "health                73247 non-null float64\n",
      "relationship          73247 non-null float64\n",
      "drugs/alcohol         73247 non-null float64\n",
      "history               73247 non-null float64\n",
      "slapstick             73247 non-null float64\n",
      "math                  73247 non-null float64\n",
      "political             73247 non-null float64\n",
      "racial                73247 non-null float64\n",
      "music                 73247 non-null float64\n",
      "sports                73247 non-null float64\n",
      "science               73247 non-null float64\n",
      "dtypes: float64(33), object(1)\n",
      "memory usage: 19.0+ MB\n",
      "None\n"
     ]
    },
    {
     "data": {
      "text/html": [
       "<div>\n",
       "<table border=\"1\" class=\"dataframe\">\n",
       "  <thead>\n",
       "    <tr style=\"text-align: right;\">\n",
       "      <th></th>\n",
       "      <th>hash</th>\n",
       "      <th>movie_rating</th>\n",
       "      <th>animals</th>\n",
       "      <th>cute</th>\n",
       "      <th>family</th>\n",
       "      <th>food</th>\n",
       "      <th>religion</th>\n",
       "      <th>witty</th>\n",
       "      <th>irony</th>\n",
       "      <th>dirty</th>\n",
       "      <th>...</th>\n",
       "      <th>relationship</th>\n",
       "      <th>drugs/alcohol</th>\n",
       "      <th>history</th>\n",
       "      <th>slapstick</th>\n",
       "      <th>math</th>\n",
       "      <th>political</th>\n",
       "      <th>racial</th>\n",
       "      <th>music</th>\n",
       "      <th>sports</th>\n",
       "      <th>science</th>\n",
       "    </tr>\n",
       "  </thead>\n",
       "  <tbody>\n",
       "    <tr>\n",
       "      <th>0</th>\n",
       "      <td>3523919183160026723</td>\n",
       "      <td>1.0</td>\n",
       "      <td>0.83</td>\n",
       "      <td>1.00</td>\n",
       "      <td>0.16</td>\n",
       "      <td>0.16</td>\n",
       "      <td>0.5</td>\n",
       "      <td>0.16</td>\n",
       "      <td>0.00</td>\n",
       "      <td>0.0</td>\n",
       "      <td>...</td>\n",
       "      <td>0.0</td>\n",
       "      <td>0.0</td>\n",
       "      <td>0.0</td>\n",
       "      <td>0.0</td>\n",
       "      <td>0.0</td>\n",
       "      <td>0.0</td>\n",
       "      <td>0.0</td>\n",
       "      <td>0.0</td>\n",
       "      <td>0.0</td>\n",
       "      <td>0.0</td>\n",
       "    </tr>\n",
       "    <tr>\n",
       "      <th>1</th>\n",
       "      <td>14837447423332555806</td>\n",
       "      <td>1.5</td>\n",
       "      <td>0.83</td>\n",
       "      <td>0.16</td>\n",
       "      <td>0.00</td>\n",
       "      <td>0.00</td>\n",
       "      <td>0.0</td>\n",
       "      <td>0.16</td>\n",
       "      <td>0.33</td>\n",
       "      <td>0.0</td>\n",
       "      <td>...</td>\n",
       "      <td>0.0</td>\n",
       "      <td>0.0</td>\n",
       "      <td>0.0</td>\n",
       "      <td>0.0</td>\n",
       "      <td>0.0</td>\n",
       "      <td>0.0</td>\n",
       "      <td>0.0</td>\n",
       "      <td>0.0</td>\n",
       "      <td>0.0</td>\n",
       "      <td>0.0</td>\n",
       "    </tr>\n",
       "    <tr>\n",
       "      <th>2</th>\n",
       "      <td>1805930636053085369</td>\n",
       "      <td>2.0</td>\n",
       "      <td>0.00</td>\n",
       "      <td>0.00</td>\n",
       "      <td>0.00</td>\n",
       "      <td>0.00</td>\n",
       "      <td>0.0</td>\n",
       "      <td>0.16</td>\n",
       "      <td>0.00</td>\n",
       "      <td>0.5</td>\n",
       "      <td>...</td>\n",
       "      <td>0.0</td>\n",
       "      <td>0.0</td>\n",
       "      <td>0.0</td>\n",
       "      <td>0.0</td>\n",
       "      <td>0.0</td>\n",
       "      <td>0.0</td>\n",
       "      <td>0.0</td>\n",
       "      <td>0.0</td>\n",
       "      <td>0.0</td>\n",
       "      <td>0.0</td>\n",
       "    </tr>\n",
       "    <tr>\n",
       "      <th>3</th>\n",
       "      <td>a3a5fd509ad51ba1d681bff1e38b59eaf4e5c019</td>\n",
       "      <td>1.6</td>\n",
       "      <td>0.00</td>\n",
       "      <td>0.00</td>\n",
       "      <td>0.00</td>\n",
       "      <td>0.00</td>\n",
       "      <td>0.0</td>\n",
       "      <td>0.00</td>\n",
       "      <td>0.33</td>\n",
       "      <td>0.0</td>\n",
       "      <td>...</td>\n",
       "      <td>0.0</td>\n",
       "      <td>0.0</td>\n",
       "      <td>0.0</td>\n",
       "      <td>0.0</td>\n",
       "      <td>0.0</td>\n",
       "      <td>0.0</td>\n",
       "      <td>0.0</td>\n",
       "      <td>0.0</td>\n",
       "      <td>0.0</td>\n",
       "      <td>0.0</td>\n",
       "    </tr>\n",
       "    <tr>\n",
       "      <th>4</th>\n",
       "      <td>18000053268349632107</td>\n",
       "      <td>2.8</td>\n",
       "      <td>0.00</td>\n",
       "      <td>0.00</td>\n",
       "      <td>0.00</td>\n",
       "      <td>0.00</td>\n",
       "      <td>0.0</td>\n",
       "      <td>0.20</td>\n",
       "      <td>0.40</td>\n",
       "      <td>0.0</td>\n",
       "      <td>...</td>\n",
       "      <td>0.0</td>\n",
       "      <td>0.0</td>\n",
       "      <td>0.0</td>\n",
       "      <td>0.0</td>\n",
       "      <td>0.0</td>\n",
       "      <td>0.0</td>\n",
       "      <td>0.0</td>\n",
       "      <td>0.0</td>\n",
       "      <td>0.0</td>\n",
       "      <td>0.0</td>\n",
       "    </tr>\n",
       "  </tbody>\n",
       "</table>\n",
       "<p>5 rows × 34 columns</p>\n",
       "</div>"
      ],
      "text/plain": [
       "                                       hash  movie_rating  animals  cute  \\\n",
       "0                       3523919183160026723           1.0     0.83  1.00   \n",
       "1                      14837447423332555806           1.5     0.83  0.16   \n",
       "2                       1805930636053085369           2.0     0.00  0.00   \n",
       "3  a3a5fd509ad51ba1d681bff1e38b59eaf4e5c019           1.6     0.00  0.00   \n",
       "4                      18000053268349632107           2.8     0.00  0.00   \n",
       "\n",
       "   family  food  religion  witty  irony  dirty   ...     relationship  \\\n",
       "0    0.16  0.16       0.5   0.16   0.00    0.0   ...              0.0   \n",
       "1    0.00  0.00       0.0   0.16   0.33    0.0   ...              0.0   \n",
       "2    0.00  0.00       0.0   0.16   0.00    0.5   ...              0.0   \n",
       "3    0.00  0.00       0.0   0.00   0.33    0.0   ...              0.0   \n",
       "4    0.00  0.00       0.0   0.20   0.40    0.0   ...              0.0   \n",
       "\n",
       "   drugs/alcohol  history  slapstick  math  political  racial  music  sports  \\\n",
       "0            0.0      0.0        0.0   0.0        0.0     0.0    0.0     0.0   \n",
       "1            0.0      0.0        0.0   0.0        0.0     0.0    0.0     0.0   \n",
       "2            0.0      0.0        0.0   0.0        0.0     0.0    0.0     0.0   \n",
       "3            0.0      0.0        0.0   0.0        0.0     0.0    0.0     0.0   \n",
       "4            0.0      0.0        0.0   0.0        0.0     0.0    0.0     0.0   \n",
       "\n",
       "   science  \n",
       "0      0.0  \n",
       "1      0.0  \n",
       "2      0.0  \n",
       "3      0.0  \n",
       "4      0.0  \n",
       "\n",
       "[5 rows x 34 columns]"
      ]
     },
     "execution_count": 4,
     "metadata": {},
     "output_type": "execute_result"
    }
   ],
   "source": [
    "print meta.info()\n",
    "meta.head()"
   ]
  },
  {
   "cell_type": "code",
   "execution_count": 8,
   "metadata": {
    "collapsed": false
   },
   "outputs": [
    {
     "data": {
      "text/plain": [
       "(2806940, 37)"
      ]
     },
     "execution_count": 8,
     "metadata": {},
     "output_type": "execute_result"
    }
   ],
   "source": [
    "new_train = pd.merge(train, meta, left_on='item', right_on='hash', how='right')\n",
    "new_train.shape"
   ]
  },
  {
   "cell_type": "code",
   "execution_count": 9,
   "metadata": {
    "collapsed": false
   },
   "outputs": [
    {
     "name": "stderr",
     "output_type": "stream",
     "text": [
      "[WARNING] GraphLab engine cannot find spark_unity.jar\n",
      "A newer version of GraphLab Create (v2.1) is available! Your current version is v1.8.3.\n",
      "\n",
      "You can use pip to upgrade the graphlab-create package. For more information see https://dato.com/products/create/upgrade.\n",
      "[INFO] GraphLab Create v1.8.3 started. Logging: /tmp/graphlab_server_1478043344.log\n"
     ]
    }
   ],
   "source": [
    "import graphlab as gl\n",
    "\n",
    "dat = gl.SFrame(new_train)\n",
    "\n",
    "training_data, validation_data = gl.recommender.util.random_split_by_user(dat, 'user_id', 'item')\n",
    "\n",
    "# X = train.copy()\n",
    "# y = X.pop('rating')\n",
    "\n",
    "X_train = training_data.to_dataframe()\n",
    "X_test = validation_data.to_dataframe()\n",
    "# X_train, X_test = train_test_split(train, test_size = .20, random_state = 100)\n",
    "# print 'train shape', X_train.shape\n",
    "# print 'test shape', X_test.shape"
   ]
  },
  {
   "cell_type": "code",
   "execution_count": null,
   "metadata": {
    "collapsed": false
   },
   "outputs": [],
   "source": [
    "import graphlab as gl\n",
    "\n",
    "dat = gl.SFrame('data/new_train.csv')\n",
    "\n",
    "training_data, validation_data = gl.recommender.util.random_split_by_user(dat, 'user_id', 'item')\n",
    "\n",
    "# X = train.copy()\n",
    "# y = X.pop('rating')\n",
    "\n",
    "X_train = training_data.to_dataframe()\n",
    "X_test = validation_data.to_dataframe()\n",
    "# X_train, X_test = train_test_split(train, test_size = .20, random_state = 100)\n",
    "# print 'train shape', X_train.shape\n",
    "# print 'test shape', X_test.shape"
   ]
  },
  {
   "cell_type": "code",
   "execution_count": 10,
   "metadata": {
    "collapsed": false
   },
   "outputs": [
    {
     "data": {
      "text/plain": [
       "73247"
      ]
     },
     "execution_count": 10,
     "metadata": {},
     "output_type": "execute_result"
    }
   ],
   "source": [
    "len(np.unique(X_train.item))"
   ]
  },
  {
   "cell_type": "code",
   "execution_count": 11,
   "metadata": {
    "collapsed": false
   },
   "outputs": [
    {
     "name": "stdout",
     "output_type": "stream",
     "text": [
      "(73247, 2)\n"
     ]
    },
    {
     "data": {
      "text/html": [
       "<div>\n",
       "<table border=\"1\" class=\"dataframe\">\n",
       "  <thead>\n",
       "    <tr>\n",
       "      <th></th>\n",
       "      <th colspan=\"2\" halign=\"left\">rating</th>\n",
       "    </tr>\n",
       "    <tr>\n",
       "      <th></th>\n",
       "      <th>size</th>\n",
       "      <th>mean</th>\n",
       "    </tr>\n",
       "    <tr>\n",
       "      <th>item</th>\n",
       "      <th></th>\n",
       "      <th></th>\n",
       "    </tr>\n",
       "  </thead>\n",
       "  <tbody>\n",
       "    <tr>\n",
       "      <th>00094ea4e7a84b01c59694f49dd6cac593c44f69</th>\n",
       "      <td>62</td>\n",
       "      <td>5.903226</td>\n",
       "    </tr>\n",
       "    <tr>\n",
       "      <th>001540b103ede91e564d7f11a770e2ca832d7b28</th>\n",
       "      <td>26</td>\n",
       "      <td>5.384615</td>\n",
       "    </tr>\n",
       "    <tr>\n",
       "      <th>0027b29d783fafaa0543ef4359fd57837b98fbcc</th>\n",
       "      <td>39</td>\n",
       "      <td>5.897436</td>\n",
       "    </tr>\n",
       "    <tr>\n",
       "      <th>0028046c060987ec379584f660b33752136974be</th>\n",
       "      <td>39</td>\n",
       "      <td>6.435897</td>\n",
       "    </tr>\n",
       "    <tr>\n",
       "      <th>002e306e63b70bf22a363929d3ff3721b3727801</th>\n",
       "      <td>28</td>\n",
       "      <td>5.821429</td>\n",
       "    </tr>\n",
       "  </tbody>\n",
       "</table>\n",
       "</div>"
      ],
      "text/plain": [
       "                                         rating          \n",
       "                                           size      mean\n",
       "item                                                     \n",
       "00094ea4e7a84b01c59694f49dd6cac593c44f69     62  5.903226\n",
       "001540b103ede91e564d7f11a770e2ca832d7b28     26  5.384615\n",
       "0027b29d783fafaa0543ef4359fd57837b98fbcc     39  5.897436\n",
       "0028046c060987ec379584f660b33752136974be     39  6.435897\n",
       "002e306e63b70bf22a363929d3ff3721b3727801     28  5.821429"
      ]
     },
     "execution_count": 11,
     "metadata": {},
     "output_type": "execute_result"
    }
   ],
   "source": [
    "itemProperties = X_train.groupby('item').agg({'rating': [np.size, np.mean]})\n",
    "print itemProperties.shape\n",
    "itemProperties.head()"
   ]
  },
  {
   "cell_type": "code",
   "execution_count": null,
   "metadata": {
    "collapsed": false
   },
   "outputs": [],
   "source": []
  },
  {
   "cell_type": "code",
   "execution_count": 12,
   "metadata": {
    "collapsed": false
   },
   "outputs": [
    {
     "name": "stdout",
     "output_type": "stream",
     "text": [
      "73247\n"
     ]
    },
    {
     "data": {
      "text/html": [
       "<div>\n",
       "<table border=\"1\" class=\"dataframe\">\n",
       "  <thead>\n",
       "    <tr style=\"text-align: right;\">\n",
       "      <th></th>\n",
       "      <th>size</th>\n",
       "    </tr>\n",
       "    <tr>\n",
       "      <th>item</th>\n",
       "      <th></th>\n",
       "    </tr>\n",
       "  </thead>\n",
       "  <tbody>\n",
       "    <tr>\n",
       "      <th>00094ea4e7a84b01c59694f49dd6cac593c44f69</th>\n",
       "      <td>0.562500</td>\n",
       "    </tr>\n",
       "    <tr>\n",
       "      <th>001540b103ede91e564d7f11a770e2ca832d7b28</th>\n",
       "      <td>0.187500</td>\n",
       "    </tr>\n",
       "    <tr>\n",
       "      <th>0027b29d783fafaa0543ef4359fd57837b98fbcc</th>\n",
       "      <td>0.322917</td>\n",
       "    </tr>\n",
       "    <tr>\n",
       "      <th>0028046c060987ec379584f660b33752136974be</th>\n",
       "      <td>0.322917</td>\n",
       "    </tr>\n",
       "    <tr>\n",
       "      <th>002e306e63b70bf22a363929d3ff3721b3727801</th>\n",
       "      <td>0.208333</td>\n",
       "    </tr>\n",
       "  </tbody>\n",
       "</table>\n",
       "</div>"
      ],
      "text/plain": [
       "                                              size\n",
       "item                                              \n",
       "00094ea4e7a84b01c59694f49dd6cac593c44f69  0.562500\n",
       "001540b103ede91e564d7f11a770e2ca832d7b28  0.187500\n",
       "0027b29d783fafaa0543ef4359fd57837b98fbcc  0.322917\n",
       "0028046c060987ec379584f660b33752136974be  0.322917\n",
       "002e306e63b70bf22a363929d3ff3721b3727801  0.208333"
      ]
     },
     "execution_count": 12,
     "metadata": {},
     "output_type": "execute_result"
    }
   ],
   "source": [
    "itemNumRatings = pd.DataFrame(itemProperties['rating']['size'])\n",
    "itemNormalizedNumRatings = itemNumRatings.apply(lambda x: (x - np.min(x)) / (np.max(x) - np.min(x)))\n",
    "print len(itemNormalizedNumRatings)\n",
    "itemNormalizedNumRatings.head()"
   ]
  },
  {
   "cell_type": "code",
   "execution_count": null,
   "metadata": {
    "collapsed": false
   },
   "outputs": [],
   "source": [
    "# test = pd.read_csv('data/new_test.csv')\n",
    "# print test.shape\n",
    "# test.head()"
   ]
  },
  {
   "cell_type": "code",
   "execution_count": null,
   "metadata": {
    "collapsed": false
   },
   "outputs": [],
   "source": [
    "col_names = ['hash', 'movie_rating', 'animals', 'cute', 'family', 'food', 'religion', 'witty', 'irony', 'dirty', 'language', 'nerdy', 'popculture', 'pun', 'technology', 'explicit(language)', 'fail', 'kids', 'money', 'school', 'work', 'dark', 'explicit(graphic)', 'health', 'relationship', 'drugs/alcohol', 'history', 'slapstick', 'math', 'political', 'racial', 'music', 'sports', 'science']\n",
    "\n",
    "meta = pd.read_csv('data/new_keywords.csv', names = col_names)\n",
    "meta.head()"
   ]
  },
  {
   "cell_type": "code",
   "execution_count": null,
   "metadata": {
    "collapsed": true
   },
   "outputs": [],
   "source": []
  },
  {
   "cell_type": "code",
   "execution_count": 48,
   "metadata": {
    "collapsed": false
   },
   "outputs": [],
   "source": [
    "itemDict = {}\n",
    "with open('data/new_keywords.csv') as f:\n",
    "    for line in f:\n",
    "        fields = line.rstrip('\\n').split(',')\n",
    "        itemID = fields[0]\n",
    "        name = fields[1]\n",
    "        genres = fields[2:]\n",
    "        genres = map(float, genres)\n",
    "        itemDict[itemID] = (name, genres, itemNormalizedNumRatings.loc[itemID].get('size'), \n",
    "                              itemProperties.loc[itemID].rating.get('mean'))\n",
    "# using item mean"
   ]
  },
  {
   "cell_type": "code",
   "execution_count": 40,
   "metadata": {
    "collapsed": false
   },
   "outputs": [],
   "source": [
    "itemDict = {}\n",
    "with open('data/new_keywords.csv') as f:\n",
    "    temp = ''\n",
    "    for line in f:\n",
    "        fields = line.rstrip('\\n').split(',')\n",
    "        itemID = fields[0]\n",
    "#         name = fields[1]\n",
    "        genres = fields[1:]\n",
    "        genres = map(float, genres)\n",
    "        itemDict[itemID] = (genres, itemNormalizedNumRatings.loc[itemID].get('size'), itemProperties.loc[itemID].rating.get('mean')) # no mean"
   ]
  },
  {
   "cell_type": "code",
   "execution_count": 41,
   "metadata": {
    "collapsed": false
   },
   "outputs": [
    {
     "name": "stdout",
     "output_type": "stream",
     "text": [
      "([2.8, 0.0, 0.0, 0.0, 0.0, 0.0, 0.2, 0.4, 0.0, 0.0, 0.2, 0.4, 0.2, 0.0, 0.0, 0.0, 0.0, 0.0, 0.0, 0.0, 0.6, 0.2, 0.0, 0.0, 0.0, 0.0, 0.0, 0.0, 0.0, 0.0, 0.0, 0.0, 0.0], 0.17708333333333334, 5.8399999999999999)\n"
     ]
    }
   ],
   "source": [
    "print itemDict['18000053268349632107']"
   ]
  },
  {
   "cell_type": "code",
   "execution_count": 15,
   "metadata": {
    "collapsed": false
   },
   "outputs": [
    {
     "name": "stdout",
     "output_type": "stream",
     "text": [
      "('1.3', [0.0, 0.0, 0.0, 0.0, 0.0, 0.16, 0.33, 0.33, 0.0, 0.0, 0.66, 0.0, 0.0, 0.0, 0.66, 0.0, 0.0, 0.0, 0.0, 0.0, 0.0, 0.0, 0.0, 0.0, 0.0, 0.0, 0.0, 0.0, 0.0, 0.0, 0.0, 0.0], 0.14583333333333334, 5.9545454545454541)\n"
     ]
    }
   ],
   "source": [
    "print itemDict['54113d533f80b6869fd5e91ffa5ed86dd34dee73']"
   ]
  },
  {
   "cell_type": "code",
   "execution_count": 16,
   "metadata": {
    "collapsed": false
   },
   "outputs": [],
   "source": [
    "from scipy import spatial\n",
    "\n",
    "def ComputeDistance(a, b):\n",
    "    genresA = a[1]\n",
    "    genresB = b[1]\n",
    "    genreDistance = spatial.distance.cosine(genresA, genresB)\n",
    "    popularityA = a[2]\n",
    "    popularityB = b[2]\n",
    "    popularityDistance = abs(popularityA - popularityB)\n",
    "    return genreDistance + popularityDistance\n"
   ]
  },
  {
   "cell_type": "code",
   "execution_count": 47,
   "metadata": {
    "collapsed": false
   },
   "outputs": [
    {
     "ename": "IndexError",
     "evalue": "tuple index out of range",
     "output_type": "error",
     "traceback": [
      "\u001b[0;31m---------------------------------------------------------------------------\u001b[0m",
      "\u001b[0;31mIndexError\u001b[0m                                Traceback (most recent call last)",
      "\u001b[0;32m<ipython-input-47-cbc1a338a16d>\u001b[0m in \u001b[0;36m<module>\u001b[0;34m()\u001b[0m\n\u001b[1;32m     17\u001b[0m \u001b[0mneighbors\u001b[0m \u001b[0;34m=\u001b[0m \u001b[0mgetNeighbors\u001b[0m\u001b[0;34m(\u001b[0m\u001b[0;34m'54113d533f80b6869fd5e91ffa5ed86dd34dee73'\u001b[0m\u001b[0;34m,\u001b[0m \u001b[0mK\u001b[0m\u001b[0;34m)\u001b[0m\u001b[0;34m\u001b[0m\u001b[0m\n\u001b[1;32m     18\u001b[0m \u001b[0;32mfor\u001b[0m \u001b[0mneighbor\u001b[0m \u001b[0;32min\u001b[0m \u001b[0mneighbors\u001b[0m\u001b[0;34m:\u001b[0m\u001b[0;34m\u001b[0m\u001b[0m\n\u001b[0;32m---> 19\u001b[0;31m     \u001b[0mavgRating\u001b[0m \u001b[0;34m+=\u001b[0m \u001b[0mitemDict\u001b[0m\u001b[0;34m[\u001b[0m\u001b[0mneighbor\u001b[0m\u001b[0;34m]\u001b[0m\u001b[0;34m[\u001b[0m\u001b[0;36m3\u001b[0m\u001b[0;34m]\u001b[0m\u001b[0;34m\u001b[0m\u001b[0m\n\u001b[0m\u001b[1;32m     20\u001b[0m     \u001b[0;32mprint\u001b[0m \u001b[0mitemDict\u001b[0m\u001b[0;34m[\u001b[0m\u001b[0mneighbor\u001b[0m\u001b[0;34m]\u001b[0m\u001b[0;34m[\u001b[0m\u001b[0;36m0\u001b[0m\u001b[0;34m]\u001b[0m \u001b[0;34m+\u001b[0m \u001b[0;34m\" \"\u001b[0m \u001b[0;34m+\u001b[0m \u001b[0mstr\u001b[0m\u001b[0;34m(\u001b[0m\u001b[0mitemDict\u001b[0m\u001b[0;34m[\u001b[0m\u001b[0mneighbor\u001b[0m\u001b[0;34m]\u001b[0m\u001b[0;34m[\u001b[0m\u001b[0;36m3\u001b[0m\u001b[0;34m]\u001b[0m\u001b[0;34m)\u001b[0m\u001b[0;34m\u001b[0m\u001b[0m\n\u001b[1;32m     21\u001b[0m \u001b[0;34m\u001b[0m\u001b[0m\n",
      "\u001b[0;31mIndexError\u001b[0m: tuple index out of range"
     ]
    }
   ],
   "source": [
    "import operator\n",
    "\n",
    "def getNeighbors(itemID, K):\n",
    "    distances = []\n",
    "    for item in itemDict:\n",
    "        if (item != itemID):\n",
    "            dist = ComputeDistance(itemDict[itemID], itemDict[item])\n",
    "            distances.append((item, dist))\n",
    "    distances.sort(key=operator.itemgetter(1))\n",
    "    neighbors = []\n",
    "    for x in range(K):\n",
    "        neighbors.append(distances[x][0])\n",
    "    return neighbors\n",
    "\n",
    "K = 10\n",
    "avgRating = 0\n",
    "neighbors = getNeighbors('54113d533f80b6869fd5e91ffa5ed86dd34dee73', K)\n",
    "for neighbor in neighbors:\n",
    "    avgRating += itemDict[neighbor][3]\n",
    "    print itemDict[neighbor][0] + \" \" + str(itemDict[neighbor][3])\n",
    "    \n",
    "avgRating /= float(K)"
   ]
  },
  {
   "cell_type": "code",
   "execution_count": 22,
   "metadata": {
    "collapsed": false
   },
   "outputs": [
    {
     "data": {
      "text/plain": [
       "5.9553278486746235"
      ]
     },
     "execution_count": 22,
     "metadata": {},
     "output_type": "execute_result"
    }
   ],
   "source": [
    "avgRating"
   ]
  },
  {
   "cell_type": "code",
   "execution_count": 24,
   "metadata": {
    "collapsed": false
   },
   "outputs": [
    {
     "data": {
      "text/plain": [
       "(65935, 37)"
      ]
     },
     "execution_count": 24,
     "metadata": {},
     "output_type": "execute_result"
    }
   ],
   "source": [
    "X_test.shape"
   ]
  },
  {
   "cell_type": "code",
   "execution_count": 32,
   "metadata": {
    "collapsed": false
   },
   "outputs": [],
   "source": [
    "def predict(item):\n",
    "\n",
    "    preds = []\n",
    "\n",
    "    K = 10\n",
    "    avgRating = 0\n",
    "    neighbors = getNeighbors(item, K)\n",
    "    for neighbor in neighbors:\n",
    "        avgRating += itemDict[neighbor][3]\n",
    "#         print itemDict[neighbor][0] + \" \" + str(itemDict[neighbor][3])\n",
    "\n",
    "    avgRating /= float(K)\n",
    "    preds.append(avgRating)\n",
    "    \n",
    "    return preds\n",
    "\n",
    "test_preds = X_test.item[:25].map(predict)"
   ]
  },
  {
   "cell_type": "code",
   "execution_count": 38,
   "metadata": {
    "collapsed": false
   },
   "outputs": [
    {
     "data": {
      "text/plain": [
       "[5.9553278486746235]"
      ]
     },
     "execution_count": 38,
     "metadata": {},
     "output_type": "execute_result"
    }
   ],
   "source": [
    "test_preds.ix[0]"
   ]
  },
  {
   "cell_type": "code",
   "execution_count": null,
   "metadata": {
    "collapsed": false
   },
   "outputs": [],
   "source": [
    "# itemDict['14837447423332555806']"
   ]
  },
  {
   "cell_type": "code",
   "execution_count": null,
   "metadata": {
    "collapsed": false
   },
   "outputs": [],
   "source": [
    "np.mean(X_train[X_train.item == '18000053268349632107']['rating'])"
   ]
  },
  {
   "cell_type": "code",
   "execution_count": null,
   "metadata": {
    "collapsed": false
   },
   "outputs": [],
   "source": [
    "dat = pd.merge(meta, X_test, left_on='hash', right_on='item', how='inner')"
   ]
  },
  {
   "cell_type": "code",
   "execution_count": null,
   "metadata": {
    "collapsed": false
   },
   "outputs": [],
   "source": [
    "print dat.shape\n",
    "dat.head()"
   ]
  },
  {
   "cell_type": "code",
   "execution_count": null,
   "metadata": {
    "collapsed": false
   },
   "outputs": [],
   "source": [
    "h = dat.hash.values[:100]"
   ]
  },
  {
   "cell_type": "code",
   "execution_count": null,
   "metadata": {
    "collapsed": true
   },
   "outputs": [],
   "source": [
    "predictions = []\n",
    "for pred in h:\n",
    "\n",
    "\n",
    "    K = 10\n",
    "    avgRating = 0\n",
    "    neighbors = getNeighbors(pred, K)\n",
    "    for neighbor in neighbors:\n",
    "        avgRating += itemDict[neighbor][3]\n",
    "#         print itemDict[neighbor][0] + \" \" + str(itemDict[neighbor][3])\n",
    "\n",
    "    avgRating /= float(K)\n",
    "    predictions.append(avgRating)\n",
    "    "
   ]
  },
  {
   "cell_type": "code",
   "execution_count": null,
   "metadata": {
    "collapsed": true
   },
   "outputs": [],
   "source": [
    "y_true = dat.rating.values[:100]"
   ]
  },
  {
   "cell_type": "code",
   "execution_count": null,
   "metadata": {
    "collapsed": false
   },
   "outputs": [],
   "source": [
    "from sklearn.metrics import mean_squared_error\n",
    "\n",
    "def error_rate(y_true, y_pred):\n",
    "    return np.sqrt(mean_squared_error(y_true, y_pred))\n",
    "\n",
    "predictions = np.array(predictions)\n",
    "\n",
    "error_rate(y_true, predictions)"
   ]
  },
  {
   "cell_type": "code",
   "execution_count": null,
   "metadata": {
    "collapsed": false
   },
   "outputs": [],
   "source": [
    "df = pd.read_csv('data/new_train.csv')\n",
    "\n",
    "df.head()"
   ]
  },
  {
   "cell_type": "code",
   "execution_count": null,
   "metadata": {
    "collapsed": false
   },
   "outputs": [],
   "source": [
    "from sklearn.preprocessing import LabelEncoder\n",
    "import pandas as pd\n",
    "\n",
    "df = pd.read_csv('data/new_train.csv')\n",
    "\n",
    "le = LabelEncoder()\n",
    "\n",
    "item_int = le.fit_transform(df.item)\n",
    "user_int = le.fit_transform(df.user_id)\n",
    "\n",
    "df['item_int'] = item_int\n",
    "df['user_int'] = user_int\n",
    "\n",
    "df.drop(['item', 'user_id'], axis = 1, inplace = True)\n",
    "df = df[['user_int', 'item_int', 'rating']]\n",
    "df.to_csv('data/new_int_train.csv', index = False)"
   ]
  },
  {
   "cell_type": "code",
   "execution_count": null,
   "metadata": {
    "collapsed": false
   },
   "outputs": [],
   "source": [
    "item_int[:10]"
   ]
  },
  {
   "cell_type": "code",
   "execution_count": null,
   "metadata": {
    "collapsed": false
   },
   "outputs": [],
   "source": [
    "df.to_csv('data/new_int_train.csv', index = False)"
   ]
  },
  {
   "cell_type": "code",
   "execution_count": null,
   "metadata": {
    "collapsed": false
   },
   "outputs": [],
   "source": [
    "df.head()"
   ]
  },
  {
   "cell_type": "code",
   "execution_count": null,
   "metadata": {
    "collapsed": false
   },
   "outputs": [],
   "source": [
    "df = df[['user_int', 'item_int', 'rating']]\n",
    "df.head()"
   ]
  },
  {
   "cell_type": "code",
   "execution_count": null,
   "metadata": {
    "collapsed": true
   },
   "outputs": [],
   "source": [
    "df.to_csv('data/new_int_train.csv', index = False)"
   ]
  },
  {
   "cell_type": "code",
   "execution_count": 49,
   "metadata": {
    "collapsed": false
   },
   "outputs": [
    {
     "data": {
      "text/html": [
       "<div>\n",
       "<table border=\"1\" class=\"dataframe\">\n",
       "  <thead>\n",
       "    <tr style=\"text-align: right;\">\n",
       "      <th></th>\n",
       "      <th>item</th>\n",
       "      <th>user_id</th>\n",
       "      <th>rating</th>\n",
       "      <th>hash</th>\n",
       "      <th>movie_rating</th>\n",
       "      <th>animals</th>\n",
       "      <th>cute</th>\n",
       "      <th>family</th>\n",
       "      <th>food</th>\n",
       "      <th>religion</th>\n",
       "      <th>...</th>\n",
       "      <th>relationship</th>\n",
       "      <th>drugs/alcohol</th>\n",
       "      <th>history</th>\n",
       "      <th>slapstick</th>\n",
       "      <th>math</th>\n",
       "      <th>political</th>\n",
       "      <th>racial</th>\n",
       "      <th>music</th>\n",
       "      <th>sports</th>\n",
       "      <th>science</th>\n",
       "    </tr>\n",
       "  </thead>\n",
       "  <tbody>\n",
       "    <tr>\n",
       "      <th>0</th>\n",
       "      <td>00094ea4e7a84b01c59694f49dd6cac593c44f69</td>\n",
       "      <td>A11KMASRERFP0V</td>\n",
       "      <td>5</td>\n",
       "      <td>00094ea4e7a84b01c59694f49dd6cac593c44f69</td>\n",
       "      <td>1.5</td>\n",
       "      <td>0.0</td>\n",
       "      <td>0.0</td>\n",
       "      <td>0.0</td>\n",
       "      <td>0.0</td>\n",
       "      <td>0.0</td>\n",
       "      <td>...</td>\n",
       "      <td>0.0</td>\n",
       "      <td>0.0</td>\n",
       "      <td>0.0</td>\n",
       "      <td>0.0</td>\n",
       "      <td>0.0</td>\n",
       "      <td>1.0</td>\n",
       "      <td>0.0</td>\n",
       "      <td>0.0</td>\n",
       "      <td>0.0</td>\n",
       "      <td>0.0</td>\n",
       "    </tr>\n",
       "    <tr>\n",
       "      <th>1</th>\n",
       "      <td>00094ea4e7a84b01c59694f49dd6cac593c44f69</td>\n",
       "      <td>A11KMASRERFP0V</td>\n",
       "      <td>6</td>\n",
       "      <td>00094ea4e7a84b01c59694f49dd6cac593c44f69</td>\n",
       "      <td>1.5</td>\n",
       "      <td>0.0</td>\n",
       "      <td>0.0</td>\n",
       "      <td>0.0</td>\n",
       "      <td>0.0</td>\n",
       "      <td>0.0</td>\n",
       "      <td>...</td>\n",
       "      <td>0.0</td>\n",
       "      <td>0.0</td>\n",
       "      <td>0.0</td>\n",
       "      <td>0.0</td>\n",
       "      <td>0.0</td>\n",
       "      <td>1.0</td>\n",
       "      <td>0.0</td>\n",
       "      <td>0.0</td>\n",
       "      <td>0.0</td>\n",
       "      <td>0.0</td>\n",
       "    </tr>\n",
       "    <tr>\n",
       "      <th>2</th>\n",
       "      <td>00094ea4e7a84b01c59694f49dd6cac593c44f69</td>\n",
       "      <td>A13U02TNYRFNOI</td>\n",
       "      <td>6</td>\n",
       "      <td>00094ea4e7a84b01c59694f49dd6cac593c44f69</td>\n",
       "      <td>1.5</td>\n",
       "      <td>0.0</td>\n",
       "      <td>0.0</td>\n",
       "      <td>0.0</td>\n",
       "      <td>0.0</td>\n",
       "      <td>0.0</td>\n",
       "      <td>...</td>\n",
       "      <td>0.0</td>\n",
       "      <td>0.0</td>\n",
       "      <td>0.0</td>\n",
       "      <td>0.0</td>\n",
       "      <td>0.0</td>\n",
       "      <td>1.0</td>\n",
       "      <td>0.0</td>\n",
       "      <td>0.0</td>\n",
       "      <td>0.0</td>\n",
       "      <td>0.0</td>\n",
       "    </tr>\n",
       "    <tr>\n",
       "      <th>3</th>\n",
       "      <td>00094ea4e7a84b01c59694f49dd6cac593c44f69</td>\n",
       "      <td>A14CUGHBDKYY8H</td>\n",
       "      <td>6</td>\n",
       "      <td>00094ea4e7a84b01c59694f49dd6cac593c44f69</td>\n",
       "      <td>1.5</td>\n",
       "      <td>0.0</td>\n",
       "      <td>0.0</td>\n",
       "      <td>0.0</td>\n",
       "      <td>0.0</td>\n",
       "      <td>0.0</td>\n",
       "      <td>...</td>\n",
       "      <td>0.0</td>\n",
       "      <td>0.0</td>\n",
       "      <td>0.0</td>\n",
       "      <td>0.0</td>\n",
       "      <td>0.0</td>\n",
       "      <td>1.0</td>\n",
       "      <td>0.0</td>\n",
       "      <td>0.0</td>\n",
       "      <td>0.0</td>\n",
       "      <td>0.0</td>\n",
       "    </tr>\n",
       "    <tr>\n",
       "      <th>4</th>\n",
       "      <td>00094ea4e7a84b01c59694f49dd6cac593c44f69</td>\n",
       "      <td>A16S7XRDNPBJIN</td>\n",
       "      <td>8</td>\n",
       "      <td>00094ea4e7a84b01c59694f49dd6cac593c44f69</td>\n",
       "      <td>1.5</td>\n",
       "      <td>0.0</td>\n",
       "      <td>0.0</td>\n",
       "      <td>0.0</td>\n",
       "      <td>0.0</td>\n",
       "      <td>0.0</td>\n",
       "      <td>...</td>\n",
       "      <td>0.0</td>\n",
       "      <td>0.0</td>\n",
       "      <td>0.0</td>\n",
       "      <td>0.0</td>\n",
       "      <td>0.0</td>\n",
       "      <td>1.0</td>\n",
       "      <td>0.0</td>\n",
       "      <td>0.0</td>\n",
       "      <td>0.0</td>\n",
       "      <td>0.0</td>\n",
       "    </tr>\n",
       "  </tbody>\n",
       "</table>\n",
       "<p>5 rows × 37 columns</p>\n",
       "</div>"
      ],
      "text/plain": [
       "                                       item         user_id  rating  \\\n",
       "0  00094ea4e7a84b01c59694f49dd6cac593c44f69  A11KMASRERFP0V       5   \n",
       "1  00094ea4e7a84b01c59694f49dd6cac593c44f69  A11KMASRERFP0V       6   \n",
       "2  00094ea4e7a84b01c59694f49dd6cac593c44f69  A13U02TNYRFNOI       6   \n",
       "3  00094ea4e7a84b01c59694f49dd6cac593c44f69  A14CUGHBDKYY8H       6   \n",
       "4  00094ea4e7a84b01c59694f49dd6cac593c44f69  A16S7XRDNPBJIN       8   \n",
       "\n",
       "                                       hash  movie_rating  animals  cute  \\\n",
       "0  00094ea4e7a84b01c59694f49dd6cac593c44f69           1.5      0.0   0.0   \n",
       "1  00094ea4e7a84b01c59694f49dd6cac593c44f69           1.5      0.0   0.0   \n",
       "2  00094ea4e7a84b01c59694f49dd6cac593c44f69           1.5      0.0   0.0   \n",
       "3  00094ea4e7a84b01c59694f49dd6cac593c44f69           1.5      0.0   0.0   \n",
       "4  00094ea4e7a84b01c59694f49dd6cac593c44f69           1.5      0.0   0.0   \n",
       "\n",
       "   family  food  religion   ...     relationship  drugs/alcohol  history  \\\n",
       "0     0.0   0.0       0.0   ...              0.0            0.0      0.0   \n",
       "1     0.0   0.0       0.0   ...              0.0            0.0      0.0   \n",
       "2     0.0   0.0       0.0   ...              0.0            0.0      0.0   \n",
       "3     0.0   0.0       0.0   ...              0.0            0.0      0.0   \n",
       "4     0.0   0.0       0.0   ...              0.0            0.0      0.0   \n",
       "\n",
       "   slapstick  math  political  racial  music  sports  science  \n",
       "0        0.0   0.0        1.0     0.0    0.0     0.0      0.0  \n",
       "1        0.0   0.0        1.0     0.0    0.0     0.0      0.0  \n",
       "2        0.0   0.0        1.0     0.0    0.0     0.0      0.0  \n",
       "3        0.0   0.0        1.0     0.0    0.0     0.0      0.0  \n",
       "4        0.0   0.0        1.0     0.0    0.0     0.0      0.0  \n",
       "\n",
       "[5 rows x 37 columns]"
      ]
     },
     "execution_count": 49,
     "metadata": {},
     "output_type": "execute_result"
    }
   ],
   "source": [
    "X_train.head()"
   ]
  },
  {
   "cell_type": "code",
   "execution_count": null,
   "metadata": {
    "collapsed": false
   },
   "outputs": [],
   "source": [
    "from sklearn.neighbors import KNeighborsRegressor\n",
    "\n",
    "X_train_features = X_train.drop(['item', 'user_id', 'hash'], axis = 1)\n",
    "y_train = X_train.pop('rating')\n",
    "\n",
    "clf = KNeighborsRegressor()\n",
    "clf.fit(X_train_features, y_train)"
   ]
  },
  {
   "cell_type": "code",
   "execution_count": null,
   "metadata": {
    "collapsed": true
   },
   "outputs": [],
   "source": []
  }
 ],
 "metadata": {
  "kernelspec": {
   "display_name": "Python 2",
   "language": "python",
   "name": "python2"
  },
  "language_info": {
   "codemirror_mode": {
    "name": "ipython",
    "version": 2
   },
   "file_extension": ".py",
   "mimetype": "text/x-python",
   "name": "python",
   "nbconvert_exporter": "python",
   "pygments_lexer": "ipython2",
   "version": "2.7.12"
  }
 },
 "nbformat": 4,
 "nbformat_minor": 1
}
