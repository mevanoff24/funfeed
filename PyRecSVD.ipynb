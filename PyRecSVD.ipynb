{
 "cells": [
  {
   "cell_type": "code",
   "execution_count": null,
   "metadata": {
    "collapsed": false
   },
   "outputs": [],
   "source": [
    "import pandas as pd\n",
    "\n",
    "train = pd.read_csv('data/new_int_train_no_header.csv', names = ['user_id', 'item', 'rating'])\n",
    "train.head()"
   ]
  },
  {
   "cell_type": "code",
   "execution_count": null,
   "metadata": {
    "collapsed": false
   },
   "outputs": [],
   "source": [
    "import graphlab as gl\n",
    "\n",
    "dat = gl.SFrame(train)\n",
    "\n",
    "training_data, validation_data = gl.recommender.util.random_split_by_user(dat, 'user_id', 'item')\n",
    "\n",
    "\n",
    "X_train = training_data.to_dataframe()\n",
    "X_test = validation_data.to_dataframe()"
   ]
  },
  {
   "cell_type": "code",
   "execution_count": null,
   "metadata": {
    "collapsed": false
   },
   "outputs": [],
   "source": [
    "X_train.to_csv('data/SVD_train_no_header.csv', header = None, index = False)\n",
    "X_test.to_csv('data/SVD_test_no_header.csv', header = None, index = False)"
   ]
  },
  {
   "cell_type": "code",
   "execution_count": null,
   "metadata": {
    "collapsed": false
   },
   "outputs": [],
   "source": [
    "from recsys.algorithm.factorize import SVD\n",
    "svd = SVD()\n",
    "svd.load_data(filename='data/SVD_train_no_header.csv',\n",
    "            sep=',',\n",
    "            format={'col':0, 'row':1, 'value':2, 'ids': int})"
   ]
  },
  {
   "cell_type": "code",
   "execution_count": null,
   "metadata": {
    "collapsed": false
   },
   "outputs": [],
   "source": [
    "k = 100\n",
    "svd.compute(k=k,\n",
    "            min_values=10,\n",
    "            pre_normalize=None,\n",
    "            mean_center=True,\n",
    "            post_normalize=True,\n",
    "            savefile='/tmp/save')"
   ]
  },
  {
   "cell_type": "code",
   "execution_count": null,
   "metadata": {
    "collapsed": false
   },
   "outputs": [],
   "source": [
    "svd.similarity(1, 200)"
   ]
  },
  {
   "cell_type": "code",
   "execution_count": null,
   "metadata": {
    "collapsed": false
   },
   "outputs": [],
   "source": [
    "svd.similar(1)"
   ]
  },
  {
   "cell_type": "code",
   "execution_count": null,
   "metadata": {
    "collapsed": false
   },
   "outputs": [],
   "source": [
    "test = pd.read_csv('data/SVD_sample_test.csv', header = None)\n",
    "X = test.as_matrix()[:, 0:2]\n",
    "y = test.as_matrix()[:, 2]"
   ]
  },
  {
   "cell_type": "code",
   "execution_count": null,
   "metadata": {
    "collapsed": false
   },
   "outputs": [],
   "source": [
    "MIN_RATING = 0.0\n",
    "MAX_RATING = 10.0\n",
    "ITEMID = 100\n",
    "USERID = 10\n",
    "\n",
    "svd.predict(ITEMID, USERID, MIN_RATING, MAX_RATING)\n",
    "# Predicted value 5.0\n",
    "\n",
    "# svd.get_matrix().value(ITEMID, USERID)\n",
    "# Real value 5.0"
   ]
  },
  {
   "cell_type": "code",
   "execution_count": null,
   "metadata": {
    "collapsed": true
   },
   "outputs": [],
   "source": [
    "from recsys.evaluation.prediction import RMSE"
   ]
  },
  {
   "cell_type": "code",
   "execution_count": null,
   "metadata": {
    "collapsed": false
   },
   "outputs": [],
   "source": [
    "X"
   ]
  },
  {
   "cell_type": "code",
   "execution_count": 1,
   "metadata": {
    "collapsed": false
   },
   "outputs": [
    {
     "name": "stdout",
     "output_type": "stream",
     "text": [
      "Loading data/sample_train_int_no_header.csv\n",
      "\n",
      "Creating matrix (79999 tuples)\n",
      "Matrix density is: 0.229%\n",
      "Updating matrix: squish to at least 10 values\n",
      "Computing svd k=100, min_values=10, pre_normalize=tfidf, mean_center=True, post_normalize=True\n",
      "[WARNING] mean_center is True. svd.similar(...) might return nan's. If so, then do svd.compute(..., mean_center=False)\n",
      "RMSE=3.115937\n",
      "MAE=2.432875\n"
     ]
    }
   ],
   "source": [
    "import sys\n",
    "import numpy as np\n",
    "\n",
    "#To show some messages:\n",
    "import recsys.algorithm\n",
    "recsys.algorithm.VERBOSE = True\n",
    "\n",
    "from recsys.algorithm.factorize import SVD, SVDNeighbourhood\n",
    "from recsys.datamodel.data import Data\n",
    "from recsys.evaluation.prediction import RMSE, MAE\n",
    "\n",
    "#Dataset\n",
    "PERCENT_TRAIN = 80\n",
    "data = Data()\n",
    "data.load('data/sample_train_int_no_header.csv', sep=',', format={'col':0, 'row':1, 'value':2, 'ids':int})\n",
    "    # About format parameter:\n",
    "    #   'row': 1 -> Rows in matrix come from column 1 in ratings.dat file\n",
    "    #   'col': 0 -> Cols in matrix come from column 0 in ratings.dat file\n",
    "    #   'value': 2 -> Values (Mij) in matrix come from column 2 in ratings.dat file\n",
    "    #   'ids': int -> Ids (row and col ids) are integers (not strings)\n",
    "\n",
    "#Train & Test data\n",
    "train, test = data.split_train_test(percent=PERCENT_TRAIN)\n",
    "\n",
    "#Create SVD\n",
    "K=100\n",
    "svd = SVDNeighbourhood()\n",
    "svd.set_data(train)\n",
    "svd.compute(k=K, min_values=10, pre_normalize='tfidf', mean_center=True, post_normalize=True)\n",
    "\n",
    "#Evaluation using prediction-based metrics\n",
    "rmse = RMSE()\n",
    "mae = MAE()\n",
    "for rating, item_id, user_id in test.get():\n",
    "    try:\n",
    "        pred_rating = np.clip(svd.predict(item_id, user_id), 1, 10)\n",
    "        rmse.add(rating, pred_rating)\n",
    "        mae.add(rating, pred_rating)\n",
    "    except KeyError:\n",
    "        continue\n",
    "\n",
    "print 'RMSE=%s' % rmse.compute()\n",
    "print 'MAE=%s' % mae.compute()"
   ]
  },
  {
   "cell_type": "code",
   "execution_count": null,
   "metadata": {
    "collapsed": true
   },
   "outputs": [],
   "source": []
  }
 ],
 "metadata": {
  "kernelspec": {
   "display_name": "Python 2",
   "language": "python",
   "name": "python2"
  },
  "language_info": {
   "codemirror_mode": {
    "name": "ipython",
    "version": 2
   },
   "file_extension": ".py",
   "mimetype": "text/x-python",
   "name": "python",
   "nbconvert_exporter": "python",
   "pygments_lexer": "ipython2",
   "version": "2.7.12"
  }
 },
 "nbformat": 4,
 "nbformat_minor": 1
}
