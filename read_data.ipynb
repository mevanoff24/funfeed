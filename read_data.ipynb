{
 "cells": [
  {
   "cell_type": "code",
   "execution_count": 5,
   "metadata": {
    "collapsed": true
   },
   "outputs": [],
   "source": [
    "import warnings\n",
    "warnings.filterwarnings('ignore')\n",
    "\n",
    "import pandas as pd\n",
    "import numpy as np"
   ]
  },
  {
   "cell_type": "code",
   "execution_count": 6,
   "metadata": {
    "collapsed": false
   },
   "outputs": [],
   "source": [
    "users = pd.read_csv('data/train.csv', names = ['item', 'user_id', 'rating'])"
   ]
  },
  {
   "cell_type": "code",
   "execution_count": 7,
   "metadata": {
    "collapsed": false
   },
   "outputs": [
    {
     "name": "stdout",
     "output_type": "stream",
     "text": [
      "(6311487, 3) (2103828, 2)\n"
     ]
    },
    {
     "data": {
      "text/html": [
       "<div>\n",
       "<table border=\"1\" class=\"dataframe\">\n",
       "  <thead>\n",
       "    <tr style=\"text-align: right;\">\n",
       "      <th></th>\n",
       "      <th>item</th>\n",
       "      <th>user_id</th>\n",
       "      <th>rating</th>\n",
       "    </tr>\n",
       "  </thead>\n",
       "  <tbody>\n",
       "    <tr>\n",
       "      <th>0</th>\n",
       "      <td>00009a90ce7ec2b3e52bbffe7388dbc5850b3a6a</td>\n",
       "      <td>A079789010EVSPIBCSWFO</td>\n",
       "      <td>6</td>\n",
       "    </tr>\n",
       "    <tr>\n",
       "      <th>1</th>\n",
       "      <td>00009a90ce7ec2b3e52bbffe7388dbc5850b3a6a</td>\n",
       "      <td>A13U02TNYRFNOI</td>\n",
       "      <td>6</td>\n",
       "    </tr>\n",
       "    <tr>\n",
       "      <th>2</th>\n",
       "      <td>00009a90ce7ec2b3e52bbffe7388dbc5850b3a6a</td>\n",
       "      <td>A1QYORNO0GY308</td>\n",
       "      <td>5</td>\n",
       "    </tr>\n",
       "    <tr>\n",
       "      <th>3</th>\n",
       "      <td>00009a90ce7ec2b3e52bbffe7388dbc5850b3a6a</td>\n",
       "      <td>A1SUU1QIRDZXJC</td>\n",
       "      <td>1</td>\n",
       "    </tr>\n",
       "    <tr>\n",
       "      <th>4</th>\n",
       "      <td>00009a90ce7ec2b3e52bbffe7388dbc5850b3a6a</td>\n",
       "      <td>A2ELH6CUC5Y8J4</td>\n",
       "      <td>3</td>\n",
       "    </tr>\n",
       "  </tbody>\n",
       "</table>\n",
       "</div>"
      ],
      "text/plain": [
       "                                       item                user_id rating\n",
       "0  00009a90ce7ec2b3e52bbffe7388dbc5850b3a6a  A079789010EVSPIBCSWFO      6\n",
       "1  00009a90ce7ec2b3e52bbffe7388dbc5850b3a6a         A13U02TNYRFNOI      6\n",
       "2  00009a90ce7ec2b3e52bbffe7388dbc5850b3a6a         A1QYORNO0GY308      5\n",
       "3  00009a90ce7ec2b3e52bbffe7388dbc5850b3a6a         A1SUU1QIRDZXJC      1\n",
       "4  00009a90ce7ec2b3e52bbffe7388dbc5850b3a6a         A2ELH6CUC5Y8J4      3"
      ]
     },
     "execution_count": 7,
     "metadata": {},
     "output_type": "execute_result"
    }
   ],
   "source": [
    "train = users[users.rating != '?']\n",
    "test = users[users.rating == '?']\n",
    "test.drop(['rating'], inplace = True, axis = 1)\n",
    "print train.shape, test.shape\n",
    "train.head()"
   ]
  },
  {
   "cell_type": "code",
   "execution_count": 6,
   "metadata": {
    "collapsed": false
   },
   "outputs": [
    {
     "data": {
      "text/plain": [
       "9923"
      ]
     },
     "execution_count": 6,
     "metadata": {},
     "output_type": "execute_result"
    }
   ],
   "source": [
    "# unique users\n",
    "len(np.unique(users.user_id))"
   ]
  },
  {
   "cell_type": "code",
   "execution_count": 11,
   "metadata": {
    "collapsed": false
   },
   "outputs": [
    {
     "data": {
      "text/plain": [
       "393522"
      ]
     },
     "execution_count": 11,
     "metadata": {},
     "output_type": "execute_result"
    }
   ],
   "source": [
    "# unique items\n",
    "len(np.unique(users.item))"
   ]
  },
  {
   "cell_type": "markdown",
   "metadata": {},
   "source": [
    "### Lets Check out the \"Bad Data\""
   ]
  },
  {
   "cell_type": "code",
   "execution_count": 13,
   "metadata": {
    "collapsed": false
   },
   "outputs": [
    {
     "name": "stdout",
     "output_type": "stream",
     "text": [
      "bad data 17067\n"
     ]
    },
    {
     "data": {
      "text/html": [
       "<div>\n",
       "<table border=\"1\" class=\"dataframe\">\n",
       "  <thead>\n",
       "    <tr style=\"text-align: right;\">\n",
       "      <th></th>\n",
       "      <th>item</th>\n",
       "      <th>user_id</th>\n",
       "      <th>rating</th>\n",
       "    </tr>\n",
       "  </thead>\n",
       "  <tbody>\n",
       "    <tr>\n",
       "      <th>8285821</th>\n",
       "      <td>notfunny10</td>\n",
       "      <td>A1ENHC1UQ80L8X</td>\n",
       "      <td>NaN</td>\n",
       "    </tr>\n",
       "    <tr>\n",
       "      <th>8285823</th>\n",
       "      <td>notfunny10</td>\n",
       "      <td>A1EU25HIF6NX3E</td>\n",
       "      <td>NaN</td>\n",
       "    </tr>\n",
       "    <tr>\n",
       "      <th>8285832</th>\n",
       "      <td>notfunny10</td>\n",
       "      <td>A1JK07FS8SG422</td>\n",
       "      <td>NaN</td>\n",
       "    </tr>\n",
       "    <tr>\n",
       "      <th>8285866</th>\n",
       "      <td>notfunny10</td>\n",
       "      <td>A1VGV9T3P70QK7</td>\n",
       "      <td>NaN</td>\n",
       "    </tr>\n",
       "    <tr>\n",
       "      <th>8285869</th>\n",
       "      <td>notfunny10</td>\n",
       "      <td>A1XGSYVGKSVGLC</td>\n",
       "      <td>NaN</td>\n",
       "    </tr>\n",
       "  </tbody>\n",
       "</table>\n",
       "</div>"
      ],
      "text/plain": [
       "               item         user_id rating\n",
       "8285821  notfunny10  A1ENHC1UQ80L8X    NaN\n",
       "8285823  notfunny10  A1EU25HIF6NX3E    NaN\n",
       "8285832  notfunny10  A1JK07FS8SG422    NaN\n",
       "8285866  notfunny10  A1VGV9T3P70QK7    NaN\n",
       "8285869  notfunny10  A1XGSYVGKSVGLC    NaN"
      ]
     },
     "execution_count": 13,
     "metadata": {},
     "output_type": "execute_result"
    }
   ],
   "source": [
    "bad_data = users[users.rating.isnull()]\n",
    "print 'number of bad data', len(bad_data)\n",
    "bad_data.head()"
   ]
  },
  {
   "cell_type": "code",
   "execution_count": 15,
   "metadata": {
    "collapsed": false
   },
   "outputs": [
    {
     "data": {
      "text/plain": [
       "notfunny61    482\n",
       "notfunny54    441\n",
       "notfunny27    402\n",
       "notfunny64    399\n",
       "notfunny44    395\n",
       "notfunny56    384\n",
       "notfunny63    372\n",
       "notfunny52    372\n",
       "notfunny28    366\n",
       "notfunny51    365\n",
       "Name: item, dtype: int64"
      ]
     },
     "execution_count": 15,
     "metadata": {},
     "output_type": "execute_result"
    }
   ],
   "source": [
    "bad_data.item.value_counts()[:10]"
   ]
  },
  {
   "cell_type": "code",
   "execution_count": 4,
   "metadata": {
    "collapsed": false
   },
   "outputs": [
    {
     "data": {
      "text/plain": [
       "6     1571309\n",
       "7     1177383\n",
       "5      884021\n",
       "4      685633\n",
       "3      664803\n",
       "8      613266\n",
       "9      246762\n",
       "2      219274\n",
       "1      163605\n",
       "10      68360\n",
       "1;          1\n",
       "1o          1\n",
       "1\\          1\n",
       "4.          1\n",
       "Name: rating, dtype: int64"
      ]
     },
     "execution_count": 4,
     "metadata": {},
     "output_type": "execute_result"
    }
   ],
   "source": [
    "train.rating.value_counts()"
   ]
  },
  {
   "cell_type": "markdown",
   "metadata": {},
   "source": [
    "### Clean Rating Column"
   ]
  },
  {
   "cell_type": "code",
   "execution_count": 5,
   "metadata": {
    "collapsed": false
   },
   "outputs": [],
   "source": [
    "# clean rating \n",
    "train = train[train.rating != '1;']\n",
    "train = train[train.rating != '1o']\n",
    "train = train[train.rating != '1\\\\']\n",
    "train = train[train.rating != '4.']\n",
    "train.dropna(inplace = 'True')\n",
    "train.rating = train.rating.astype(int)"
   ]
  },
  {
   "cell_type": "markdown",
   "metadata": {},
   "source": [
    "### Clean Up `keywords-Aug2015.txt` to make it nicely formated "
   ]
  },
  {
   "cell_type": "code",
   "execution_count": 7,
   "metadata": {
    "collapsed": false
   },
   "outputs": [
    {
     "name": "stdout",
     "output_type": "stream",
     "text": [
      "['hash', 'movie_rating', 'animals', 'cute', 'family', 'food', 'religion', 'witty', 'irony', 'dirty', 'language', 'nerdy', 'popculture', 'pun', 'technology', 'explicit(language)', 'fail', 'kids', 'money', 'school', 'work', 'dark', 'explicit(graphic)', 'health', 'relationship', 'drugs/alcohol', 'history', 'slapstick', 'math', 'political', 'racial', 'music', 'sports', 'science']\n"
     ]
    }
   ],
   "source": [
    "# Get all feature names\n",
    "\n",
    "with open('data/keywords-Aug2015.txt', 'r') as myfile:\n",
    "    meta=myfile.read().replace('\\n', '')\n",
    "    \n",
    "column_names = []\n",
    "\n",
    "b = meta.split()\n",
    "for i in b:\n",
    "    c = i.split('=')\n",
    "    if c[0] not in column_names:\n",
    "        column_names.append(c[0])\n",
    "        \n",
    "print column_names"
   ]
  },
  {
   "cell_type": "code",
   "execution_count": 8,
   "metadata": {
    "collapsed": false
   },
   "outputs": [
    {
     "data": {
      "text/html": [
       "<div>\n",
       "<table border=\"1\" class=\"dataframe\">\n",
       "  <thead>\n",
       "    <tr style=\"text-align: right;\">\n",
       "      <th></th>\n",
       "      <th>hash</th>\n",
       "      <th>movie_rating</th>\n",
       "      <th>animals</th>\n",
       "      <th>cute</th>\n",
       "      <th>family</th>\n",
       "      <th>food</th>\n",
       "      <th>religion</th>\n",
       "      <th>witty</th>\n",
       "      <th>irony</th>\n",
       "      <th>dirty</th>\n",
       "      <th>...</th>\n",
       "      <th>relationship</th>\n",
       "      <th>drugs/alcohol</th>\n",
       "      <th>history</th>\n",
       "      <th>slapstick</th>\n",
       "      <th>math</th>\n",
       "      <th>political</th>\n",
       "      <th>racial</th>\n",
       "      <th>music</th>\n",
       "      <th>sports</th>\n",
       "      <th>science</th>\n",
       "    </tr>\n",
       "  </thead>\n",
       "  <tbody>\n",
       "    <tr>\n",
       "      <th>0</th>\n",
       "      <td>3523919183160026723</td>\n",
       "      <td>1</td>\n",
       "      <td>0.83</td>\n",
       "      <td>1</td>\n",
       "      <td>0.16</td>\n",
       "      <td>0.16</td>\n",
       "      <td>0.5</td>\n",
       "      <td>0.16</td>\n",
       "      <td>0</td>\n",
       "      <td>0</td>\n",
       "      <td>...</td>\n",
       "      <td>0</td>\n",
       "      <td>0</td>\n",
       "      <td>0</td>\n",
       "      <td>0</td>\n",
       "      <td>0</td>\n",
       "      <td>0</td>\n",
       "      <td>0</td>\n",
       "      <td>0</td>\n",
       "      <td>0</td>\n",
       "      <td>0</td>\n",
       "    </tr>\n",
       "    <tr>\n",
       "      <th>1</th>\n",
       "      <td>14837447423332555806</td>\n",
       "      <td>1.5</td>\n",
       "      <td>0.83</td>\n",
       "      <td>0.16</td>\n",
       "      <td>0</td>\n",
       "      <td>0</td>\n",
       "      <td>0</td>\n",
       "      <td>0.16</td>\n",
       "      <td>0.33</td>\n",
       "      <td>0</td>\n",
       "      <td>...</td>\n",
       "      <td>0</td>\n",
       "      <td>0</td>\n",
       "      <td>0</td>\n",
       "      <td>0</td>\n",
       "      <td>0</td>\n",
       "      <td>0</td>\n",
       "      <td>0</td>\n",
       "      <td>0</td>\n",
       "      <td>0</td>\n",
       "      <td>0</td>\n",
       "    </tr>\n",
       "    <tr>\n",
       "      <th>2</th>\n",
       "      <td>1805930636053085369</td>\n",
       "      <td>2</td>\n",
       "      <td>0</td>\n",
       "      <td>0</td>\n",
       "      <td>0</td>\n",
       "      <td>0</td>\n",
       "      <td>0</td>\n",
       "      <td>0.16</td>\n",
       "      <td>0</td>\n",
       "      <td>0.5</td>\n",
       "      <td>...</td>\n",
       "      <td>0</td>\n",
       "      <td>0</td>\n",
       "      <td>0</td>\n",
       "      <td>0</td>\n",
       "      <td>0</td>\n",
       "      <td>0</td>\n",
       "      <td>0</td>\n",
       "      <td>0</td>\n",
       "      <td>0</td>\n",
       "      <td>0</td>\n",
       "    </tr>\n",
       "    <tr>\n",
       "      <th>3</th>\n",
       "      <td>a3a5fd509ad51ba1d681bff1e38b59eaf4e5c019</td>\n",
       "      <td>1.6</td>\n",
       "      <td>0</td>\n",
       "      <td>0</td>\n",
       "      <td>0</td>\n",
       "      <td>0</td>\n",
       "      <td>0</td>\n",
       "      <td>0</td>\n",
       "      <td>0.33</td>\n",
       "      <td>0</td>\n",
       "      <td>...</td>\n",
       "      <td>0</td>\n",
       "      <td>0</td>\n",
       "      <td>0</td>\n",
       "      <td>0</td>\n",
       "      <td>0</td>\n",
       "      <td>0</td>\n",
       "      <td>0</td>\n",
       "      <td>0</td>\n",
       "      <td>0</td>\n",
       "      <td>0</td>\n",
       "    </tr>\n",
       "    <tr>\n",
       "      <th>4</th>\n",
       "      <td>18000053268349632107</td>\n",
       "      <td>2.8</td>\n",
       "      <td>0</td>\n",
       "      <td>0</td>\n",
       "      <td>0</td>\n",
       "      <td>0</td>\n",
       "      <td>0</td>\n",
       "      <td>0.2</td>\n",
       "      <td>0.4</td>\n",
       "      <td>0</td>\n",
       "      <td>...</td>\n",
       "      <td>0</td>\n",
       "      <td>0</td>\n",
       "      <td>0</td>\n",
       "      <td>0</td>\n",
       "      <td>0</td>\n",
       "      <td>0</td>\n",
       "      <td>0</td>\n",
       "      <td>0</td>\n",
       "      <td>0</td>\n",
       "      <td>0</td>\n",
       "    </tr>\n",
       "  </tbody>\n",
       "</table>\n",
       "<p>5 rows × 34 columns</p>\n",
       "</div>"
      ],
      "text/plain": [
       "                                       hash movie_rating animals  cute family  \\\n",
       "0                       3523919183160026723            1    0.83     1   0.16   \n",
       "1                      14837447423332555806          1.5    0.83  0.16      0   \n",
       "2                       1805930636053085369            2       0     0      0   \n",
       "3  a3a5fd509ad51ba1d681bff1e38b59eaf4e5c019          1.6       0     0      0   \n",
       "4                      18000053268349632107          2.8       0     0      0   \n",
       "\n",
       "   food religion witty irony dirty   ...   relationship drugs/alcohol history  \\\n",
       "0  0.16      0.5  0.16     0     0   ...              0             0       0   \n",
       "1     0        0  0.16  0.33     0   ...              0             0       0   \n",
       "2     0        0  0.16     0   0.5   ...              0             0       0   \n",
       "3     0        0     0  0.33     0   ...              0             0       0   \n",
       "4     0        0   0.2   0.4     0   ...              0             0       0   \n",
       "\n",
       "  slapstick math political racial music sports science  \n",
       "0         0    0         0      0     0      0       0  \n",
       "1         0    0         0      0     0      0       0  \n",
       "2         0    0         0      0     0      0       0  \n",
       "3         0    0         0      0     0      0       0  \n",
       "4         0    0         0      0     0      0       0  \n",
       "\n",
       "[5 rows x 34 columns]"
      ]
     },
     "execution_count": 8,
     "metadata": {},
     "output_type": "execute_result"
    }
   ],
   "source": [
    "# Create new dataFrame\n",
    "\n",
    "data = pd.read_table('data/keywords-Aug2015.txt', header = None, names = ['info'])\n",
    "\n",
    "def create_df(row, feature):\n",
    "    info = row.split()\n",
    "    for i in info:\n",
    "        if feature in i:\n",
    "            h = i.split('=')\n",
    "            return h[1]\n",
    "    else:\n",
    "        return 0\n",
    "    \n",
    "for column_name in column_names:\n",
    "    data[column_name] = data['info'].map(lambda x: (create_df(x, column_name)))\n",
    "\n",
    "data.drop(['info'], axis = 1, inplace = True)\n",
    "data.head()"
   ]
  },
  {
   "cell_type": "code",
   "execution_count": 9,
   "metadata": {
    "collapsed": false
   },
   "outputs": [
    {
     "data": {
      "text/plain": [
       "(73247, 34)"
      ]
     },
     "execution_count": 9,
     "metadata": {},
     "output_type": "execute_result"
    }
   ],
   "source": [
    "data.shape"
   ]
  },
  {
   "cell_type": "markdown",
   "metadata": {},
   "source": [
    "### Save New DataSets to CSV"
   ]
  },
  {
   "cell_type": "code",
   "execution_count": 10,
   "metadata": {
    "collapsed": false
   },
   "outputs": [],
   "source": [
    "data.to_csv('data/new_keywords.csv', index = False, header = None)\n",
    "train.to_csv('data/new_train.csv', index = False)\n",
    "test.to_csv('data/new_test.csv', index = False)"
   ]
  },
  {
   "cell_type": "markdown",
   "metadata": {},
   "source": [
    "### To Int Data - Needed for Spark"
   ]
  },
  {
   "cell_type": "code",
   "execution_count": null,
   "metadata": {
    "collapsed": true
   },
   "outputs": [],
   "source": [
    "from sklearn.preprocessing import LabelEncoder\n",
    "import pandas as pd\n",
    "\n",
    "df = pd.read_csv('data/new_train.csv')\n",
    "\n",
    "le = LabelEncoder()\n",
    "\n",
    "item_int = le.fit_transform(df.item)\n",
    "user_int = le.fit_transform(df.user_id)\n",
    "\n",
    "df['item_int'] = item_int\n",
    "df['user_int'] = user_int\n",
    "\n",
    "df.drop(['item', 'user_id'], axis = 1, inplace = True)\n",
    "df = df[['user_int', 'item_int', 'rating']]\n",
    "df.to_csv('data/new_int_train.csv', index = False)"
   ]
  },
  {
   "cell_type": "code",
   "execution_count": 10,
   "metadata": {
    "collapsed": false
   },
   "outputs": [
    {
     "data": {
      "text/html": [
       "<div>\n",
       "<table border=\"1\" class=\"dataframe\">\n",
       "  <thead>\n",
       "    <tr style=\"text-align: right;\">\n",
       "      <th></th>\n",
       "      <th>item</th>\n",
       "      <th>user_id</th>\n",
       "      <th>item_int</th>\n",
       "      <th>user_int</th>\n",
       "    </tr>\n",
       "  </thead>\n",
       "  <tbody>\n",
       "    <tr>\n",
       "      <th>9</th>\n",
       "      <td>00009a90ce7ec2b3e52bbffe7388dbc5850b3a6a</td>\n",
       "      <td>A3SLPTXAYO9RVW</td>\n",
       "      <td>0</td>\n",
       "      <td>7255</td>\n",
       "    </tr>\n",
       "    <tr>\n",
       "      <th>10</th>\n",
       "      <td>00009a90ce7ec2b3e52bbffe7388dbc5850b3a6a</td>\n",
       "      <td>A3UY0YF90X0XLI</td>\n",
       "      <td>0</td>\n",
       "      <td>7434</td>\n",
       "    </tr>\n",
       "    <tr>\n",
       "      <th>13</th>\n",
       "      <td>00009a90ce7ec2b3e52bbffe7388dbc5850b3a6a</td>\n",
       "      <td>AAT1C3DBIYJRX</td>\n",
       "      <td>0</td>\n",
       "      <td>8009</td>\n",
       "    </tr>\n",
       "    <tr>\n",
       "      <th>16</th>\n",
       "      <td>000150213d9711862314abfa413efebcbe3339bf</td>\n",
       "      <td>A18T7E73TNGOKP</td>\n",
       "      <td>1</td>\n",
       "      <td>639</td>\n",
       "    </tr>\n",
       "    <tr>\n",
       "      <th>22</th>\n",
       "      <td>000150213d9711862314abfa413efebcbe3339bf</td>\n",
       "      <td>A23TDYCT5HS5XV</td>\n",
       "      <td>1</td>\n",
       "      <td>2828</td>\n",
       "    </tr>\n",
       "  </tbody>\n",
       "</table>\n",
       "</div>"
      ],
      "text/plain": [
       "                                        item         user_id  item_int  \\\n",
       "9   00009a90ce7ec2b3e52bbffe7388dbc5850b3a6a  A3SLPTXAYO9RVW         0   \n",
       "10  00009a90ce7ec2b3e52bbffe7388dbc5850b3a6a  A3UY0YF90X0XLI         0   \n",
       "13  00009a90ce7ec2b3e52bbffe7388dbc5850b3a6a   AAT1C3DBIYJRX         0   \n",
       "16  000150213d9711862314abfa413efebcbe3339bf  A18T7E73TNGOKP         1   \n",
       "22  000150213d9711862314abfa413efebcbe3339bf  A23TDYCT5HS5XV         1   \n",
       "\n",
       "    user_int  \n",
       "9       7255  \n",
       "10      7434  \n",
       "13      8009  \n",
       "16       639  \n",
       "22      2828  "
      ]
     },
     "execution_count": 10,
     "metadata": {},
     "output_type": "execute_result"
    }
   ],
   "source": [
    "from sklearn.preprocessing import LabelEncoder\n",
    "import pandas as pd\n",
    "\n",
    "# df = pd.read_csv('data/new_train.csv')\n",
    "\n",
    "le = LabelEncoder()\n",
    "\n",
    "item_int = le.fit_transform(test.item)\n",
    "user_int = le.fit_transform(test.user_id)\n",
    "\n",
    "test['item_int'] = item_int\n",
    "test['user_int'] = user_int\n",
    "\n",
    "# df.drop(['item', 'user_id'], axis = 1, inplace = True)\n",
    "# df = df[['user_int', 'item_int', 'rating']]\n",
    "test.to_csv('data/new_test_int_and_original.csv', index = False)\n",
    "test.head()"
   ]
  },
  {
   "cell_type": "code",
   "execution_count": 9,
   "metadata": {
    "collapsed": false
   },
   "outputs": [
    {
     "data": {
      "text/plain": [
       "(2103828, 2)"
      ]
     },
     "execution_count": 9,
     "metadata": {},
     "output_type": "execute_result"
    }
   ],
   "source": [
    "test.shape"
   ]
  },
  {
   "cell_type": "code",
   "execution_count": null,
   "metadata": {
    "collapsed": true
   },
   "outputs": [],
   "source": [
    "2103828\n",
    "6294717"
   ]
  }
 ],
 "metadata": {
  "kernelspec": {
   "display_name": "Python 2",
   "language": "python",
   "name": "python2"
  },
  "language_info": {
   "codemirror_mode": {
    "name": "ipython",
    "version": 2
   },
   "file_extension": ".py",
   "mimetype": "text/x-python",
   "name": "python",
   "nbconvert_exporter": "python",
   "pygments_lexer": "ipython2",
   "version": "2.7.12"
  }
 },
 "nbformat": 4,
 "nbformat_minor": 1
}
