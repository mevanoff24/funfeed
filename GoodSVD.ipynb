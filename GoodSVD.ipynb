{
 "cells": [
  {
   "cell_type": "code",
   "execution_count": 10,
   "metadata": {
    "collapsed": false
   },
   "outputs": [
    {
     "name": "stdout",
     "output_type": "stream",
     "text": [
      "6103246\n",
      "Squared error = 21998854.356444\n",
      "RMSE = 1.898539\n",
      "Feature = 0\n",
      "Squared error = 22083282.562901\n",
      "RMSE = 1.902179\n",
      "Feature = 1\n",
      "Squared error = 22061244.124484\n",
      "RMSE = 1.901230\n",
      "Feature = 2\n",
      "Squared error = 22040371.973131\n",
      "RMSE = 1.900330\n",
      "Feature = 3\n",
      "Squared error = 22020585.737158\n",
      "RMSE = 1.899477\n",
      "Feature = 4\n",
      "Squared error = 22001812.805751\n",
      "RMSE = 1.898667\n",
      "Feature = 5\n",
      "Squared error = 21983985.838911\n",
      "RMSE = 1.897898\n",
      "Feature = 6\n",
      "Squared error = 21967043.064170\n",
      "RMSE = 1.897166\n",
      "Feature = 7\n",
      "Squared error = 21950929.151474\n",
      "RMSE = 1.896470\n",
      "Feature = 8\n",
      "Squared error = 21935592.328850\n",
      "RMSE = 1.895808\n",
      "Feature = 9\n",
      "Squared error = 21920984.029196\n",
      "RMSE = 1.895176\n",
      "Feature = 10\n",
      "Squared error = 21907060.290272\n",
      "RMSE = 1.894574\n",
      "Feature = 11\n",
      "Squared error = 21893780.446140\n",
      "RMSE = 1.894000\n",
      "Feature = 12\n",
      "Squared error = 21881106.987641\n",
      "RMSE = 1.893452\n",
      "Feature = 13\n",
      "Squared error = 21869004.067446\n",
      "RMSE = 1.892928\n",
      "Feature = 14\n",
      "Squared error = 21857438.567979\n",
      "RMSE = 1.892427\n",
      "Feature = 15\n",
      "Squared error = 21846380.949847\n",
      "RMSE = 1.891949\n",
      "Feature = 16\n",
      "Squared error = 21835803.163889\n",
      "RMSE = 1.891490\n",
      "Feature = 17\n",
      "Squared error = 21825678.927110\n",
      "RMSE = 1.891052\n",
      "Feature = 18\n",
      "Squared error = 21815983.340634\n",
      "RMSE = 1.890632\n",
      "Feature = 19\n",
      "('rmse', 1.8906334115940255)\n"
     ]
    }
   ],
   "source": [
    "import numpy as np, time, sys\n",
    "from numba import jit\n",
    "import os\n",
    "\n",
    "import numpy as np\n",
    "from scipy import sparse\n",
    "\n",
    "class DataLoader:\n",
    "    def __init__(self):\n",
    "        pass\n",
    "\n",
    "    @staticmethod\n",
    "    def create_review_matrix(file_path):\n",
    "        data = np.array([[int(tok) for tok in line.split(',')[:3]]\n",
    "                         for line in open(file_path)])\n",
    "\n",
    "        ij = data[:, :2]\n",
    "        ij -= 1\n",
    "        values = data[:, 2]\n",
    "        review_matrix = sparse.csc_matrix((values, ij.T)).astype(float)\n",
    "        return review_matrix\n",
    "\n",
    "def get_user_ratings(user_id, review_matrix):\n",
    "    user_reviews = review_matrix[user_id]\n",
    "    user_reviews = user_reviews.toarray().ravel()\n",
    "    user_rated_items, = np.where(user_reviews > 0)\n",
    "    user_ratings = user_reviews[user_rated_items]\n",
    "    return user_ratings\n",
    "\n",
    "def get_item_ratings(item_id, review_matrix):\n",
    "    item_reviews = review_matrix[:, item_id]\n",
    "    item_reviews = item_reviews.toarray().ravel()\n",
    "    item_rated_users, = np.where(item_reviews > 0)\n",
    "    item_reviews = item_reviews[item_rated_users]\n",
    "    return item_reviews\n",
    "\n",
    "def create_user_feature_matrix(review_matrix, NUM_FEATURES, FEATURE_INIT_VALUE):\n",
    "    num_users = review_matrix.shape[0]\n",
    "    user_feature_matrix = np.empty((NUM_FEATURES, num_users))\n",
    "    user_feature_matrix[:] = FEATURE_INIT_VALUE\n",
    "    return user_feature_matrix\n",
    "\n",
    "def create_item_feature_matrix(review_matrix, NUM_FEATURES, FEATURE_INIT_VALUE):\n",
    "    num_items = review_matrix.shape[1]\n",
    "    item_feature_matrix = np.empty((NUM_FEATURES, num_items))\n",
    "    item_feature_matrix[:] = FEATURE_INIT_VALUE\n",
    "    return item_feature_matrix\n",
    "\n",
    "@jit(nopython=True)\n",
    "def predict_rating(user_id, item_id, user_feature_matrix, item_feature_matrix):\n",
    "    rating = 1.\n",
    "    for f in range(user_feature_matrix.shape[0]):\n",
    "        rating += user_feature_matrix[f, user_id] * item_feature_matrix[f, item_id]\n",
    "\n",
    "    # We trim the ratings in case they go above or below the stars range\n",
    "    if rating > 10: rating = 10\n",
    "    elif rating < 1: rating = 1\n",
    "    return rating\n",
    "\n",
    "@jit(nopython=True)\n",
    "def sgd_inner(feature, A_row, A_col, A_data, user_feature_matrix, item_feature_matrix, NUM_FEATURES):\n",
    "    K = 0.40\n",
    "    LEARNING_RATE = 0.0001\n",
    "    squared_error = 0\n",
    "    for k in range(len(A_data)):\n",
    "        user_id = A_row[k]\n",
    "        item_id = A_col[k]\n",
    "        rating = A_data[k]\n",
    "        p = predict_rating(user_id, item_id, user_feature_matrix, item_feature_matrix)\n",
    "        err = rating - p\n",
    "\n",
    "        squared_error += err ** 2\n",
    "\n",
    "        user_feature_value = user_feature_matrix[feature, user_id]\n",
    "        item_feature_value = item_feature_matrix[feature, item_id]\n",
    "        #for j in range(NUM_FEATURES):\n",
    "        user_feature_matrix[feature, user_id] += \\\n",
    "            LEARNING_RATE * (err * item_feature_value - K * user_feature_value)\n",
    "        item_feature_matrix[feature, item_id] += \\\n",
    "            LEARNING_RATE * (err * user_feature_value - K * item_feature_value)\n",
    "\n",
    "    return squared_error\n",
    "\n",
    "def calculate_features(A_row, A_col, A_data, user_feature_matrix, item_feature_matrix, NUM_FEATURES):\n",
    "\n",
    "    MIN_IMPROVEMENT = 0.0001\n",
    "    MIN_ITERATIONS = 100\n",
    "    rmse = 0\n",
    "    last_rmse = 0\n",
    "    print(len(A_data))\n",
    "    num_ratings = len(A_data)\n",
    "    for feature in xrange(NUM_FEATURES):\n",
    "        iter = 0\n",
    "        while (iter < MIN_ITERATIONS) or  (rmse < last_rmse - MIN_IMPROVEMENT):\n",
    "            last_rmse = rmse\n",
    "            squared_error = sgd_inner(feature, A_row, A_col, A_data, user_feature_matrix, item_feature_matrix, \n",
    "                                      NUM_FEATURES)\n",
    "            rmse = (squared_error / num_ratings) ** 0.5\n",
    "            iter += 1\n",
    "        print ('Squared error = %f' % squared_error)\n",
    "        print ('RMSE = %f' % rmse)\n",
    "        print ('Feature = %d' % feature)\n",
    "    return last_rmse\n",
    "\n",
    "\n",
    "LAMBDA = 0.00\n",
    "FEATURE_INIT_VALUE = 0.1\n",
    "NUM_FEATURES = 20\n",
    "\n",
    "file_path = 'data/new_int_train_no_header_plus1.csv'\n",
    "\n",
    "A = DataLoader.create_review_matrix(file_path)\n",
    "\n",
    "user_feature_matrix = create_user_feature_matrix(A, NUM_FEATURES, FEATURE_INIT_VALUE)\n",
    "item_feature_matrix = create_item_feature_matrix(A, NUM_FEATURES, FEATURE_INIT_VALUE)\n",
    "\n",
    "users, item = A.nonzero()\n",
    "A = A.tocoo()\n",
    "\n",
    "rmse = calculate_features(A.row, A.col, A.data, user_feature_matrix, item_feature_matrix, NUM_FEATURES )\n",
    "print('rmse', rmse)"
   ]
  },
  {
   "cell_type": "code",
   "execution_count": 8,
   "metadata": {
    "collapsed": false
   },
   "outputs": [
    {
     "data": {
      "text/plain": [
       "20"
      ]
     },
     "execution_count": 8,
     "metadata": {},
     "output_type": "execute_result"
    }
   ],
   "source": [
    "len(item_feature_matrix)"
   ]
  },
  {
   "cell_type": "code",
   "execution_count": 13,
   "metadata": {
    "collapsed": false
   },
   "outputs": [],
   "source": [
    "import pandas as pd\n",
    "\n",
    "dat = pd.read_csv('data/new_train.csv')"
   ]
  },
  {
   "cell_type": "code",
   "execution_count": 14,
   "metadata": {
    "collapsed": false
   },
   "outputs": [
    {
     "data": {
      "text/html": [
       "<div>\n",
       "<table border=\"1\" class=\"dataframe\">\n",
       "  <thead>\n",
       "    <tr style=\"text-align: right;\">\n",
       "      <th></th>\n",
       "      <th>item</th>\n",
       "      <th>user_id</th>\n",
       "      <th>rating</th>\n",
       "    </tr>\n",
       "  </thead>\n",
       "  <tbody>\n",
       "    <tr>\n",
       "      <th>0</th>\n",
       "      <td>00009a90ce7ec2b3e52bbffe7388dbc5850b3a6a</td>\n",
       "      <td>A079789010EVSPIBCSWFO</td>\n",
       "      <td>6</td>\n",
       "    </tr>\n",
       "    <tr>\n",
       "      <th>1</th>\n",
       "      <td>00009a90ce7ec2b3e52bbffe7388dbc5850b3a6a</td>\n",
       "      <td>A13U02TNYRFNOI</td>\n",
       "      <td>6</td>\n",
       "    </tr>\n",
       "    <tr>\n",
       "      <th>2</th>\n",
       "      <td>00009a90ce7ec2b3e52bbffe7388dbc5850b3a6a</td>\n",
       "      <td>A1QYORNO0GY308</td>\n",
       "      <td>5</td>\n",
       "    </tr>\n",
       "    <tr>\n",
       "      <th>3</th>\n",
       "      <td>00009a90ce7ec2b3e52bbffe7388dbc5850b3a6a</td>\n",
       "      <td>A1SUU1QIRDZXJC</td>\n",
       "      <td>1</td>\n",
       "    </tr>\n",
       "    <tr>\n",
       "      <th>4</th>\n",
       "      <td>00009a90ce7ec2b3e52bbffe7388dbc5850b3a6a</td>\n",
       "      <td>A2ELH6CUC5Y8J4</td>\n",
       "      <td>3</td>\n",
       "    </tr>\n",
       "  </tbody>\n",
       "</table>\n",
       "</div>"
      ],
      "text/plain": [
       "                                       item                user_id  rating\n",
       "0  00009a90ce7ec2b3e52bbffe7388dbc5850b3a6a  A079789010EVSPIBCSWFO       6\n",
       "1  00009a90ce7ec2b3e52bbffe7388dbc5850b3a6a         A13U02TNYRFNOI       6\n",
       "2  00009a90ce7ec2b3e52bbffe7388dbc5850b3a6a         A1QYORNO0GY308       5\n",
       "3  00009a90ce7ec2b3e52bbffe7388dbc5850b3a6a         A1SUU1QIRDZXJC       1\n",
       "4  00009a90ce7ec2b3e52bbffe7388dbc5850b3a6a         A2ELH6CUC5Y8J4       3"
      ]
     },
     "execution_count": 14,
     "metadata": {},
     "output_type": "execute_result"
    }
   ],
   "source": [
    "dat.head()"
   ]
  },
  {
   "cell_type": "code",
   "execution_count": 27,
   "metadata": {
    "collapsed": true
   },
   "outputs": [],
   "source": [
    "dat = pd.read_csv('data/new_int_train.csv')"
   ]
  },
  {
   "cell_type": "code",
   "execution_count": 29,
   "metadata": {
    "collapsed": false
   },
   "outputs": [
    {
     "data": {
      "text/html": [
       "<div>\n",
       "<table border=\"1\" class=\"dataframe\">\n",
       "  <thead>\n",
       "    <tr style=\"text-align: right;\">\n",
       "      <th></th>\n",
       "      <th>user_int</th>\n",
       "      <th>item_int</th>\n",
       "      <th>rating</th>\n",
       "    </tr>\n",
       "  </thead>\n",
       "  <tbody>\n",
       "    <tr>\n",
       "      <th>0</th>\n",
       "      <td>14</td>\n",
       "      <td>1</td>\n",
       "      <td>6</td>\n",
       "    </tr>\n",
       "    <tr>\n",
       "      <th>1</th>\n",
       "      <td>303</td>\n",
       "      <td>1</td>\n",
       "      <td>6</td>\n",
       "    </tr>\n",
       "    <tr>\n",
       "      <th>2</th>\n",
       "      <td>1955</td>\n",
       "      <td>1</td>\n",
       "      <td>5</td>\n",
       "    </tr>\n",
       "    <tr>\n",
       "      <th>3</th>\n",
       "      <td>2104</td>\n",
       "      <td>1</td>\n",
       "      <td>1</td>\n",
       "    </tr>\n",
       "    <tr>\n",
       "      <th>4</th>\n",
       "      <td>3644</td>\n",
       "      <td>1</td>\n",
       "      <td>3</td>\n",
       "    </tr>\n",
       "  </tbody>\n",
       "</table>\n",
       "</div>"
      ],
      "text/plain": [
       "   user_int  item_int  rating\n",
       "0        14         1       6\n",
       "1       303         1       6\n",
       "2      1955         1       5\n",
       "3      2104         1       1\n",
       "4      3644         1       3"
      ]
     },
     "execution_count": 29,
     "metadata": {},
     "output_type": "execute_result"
    }
   ],
   "source": [
    "dat['user_int'] = dat['user_int'] + 1\n",
    "dat['item_int'] = dat['item_int'] + 1\n",
    "dat.head()"
   ]
  },
  {
   "cell_type": "code",
   "execution_count": 30,
   "metadata": {
    "collapsed": true
   },
   "outputs": [],
   "source": [
    "dat.to_csv('data/new_int_train_no_header_plus1.csv', header = None, index = False)"
   ]
  },
  {
   "cell_type": "code",
   "execution_count": 19,
   "metadata": {
    "collapsed": true
   },
   "outputs": [],
   "source": [
    "df = pd.read_csv('data/sample_train_int_no_header_plus1.csv')"
   ]
  },
  {
   "cell_type": "code",
   "execution_count": 28,
   "metadata": {
    "collapsed": false
   },
   "outputs": [
    {
     "data": {
      "text/html": [
       "<div>\n",
       "<table border=\"1\" class=\"dataframe\">\n",
       "  <thead>\n",
       "    <tr style=\"text-align: right;\">\n",
       "      <th></th>\n",
       "      <th>user_int</th>\n",
       "      <th>item_int</th>\n",
       "      <th>rating</th>\n",
       "    </tr>\n",
       "  </thead>\n",
       "  <tbody>\n",
       "    <tr>\n",
       "      <th>0</th>\n",
       "      <td>13</td>\n",
       "      <td>0</td>\n",
       "      <td>6</td>\n",
       "    </tr>\n",
       "    <tr>\n",
       "      <th>1</th>\n",
       "      <td>302</td>\n",
       "      <td>0</td>\n",
       "      <td>6</td>\n",
       "    </tr>\n",
       "    <tr>\n",
       "      <th>2</th>\n",
       "      <td>1954</td>\n",
       "      <td>0</td>\n",
       "      <td>5</td>\n",
       "    </tr>\n",
       "    <tr>\n",
       "      <th>3</th>\n",
       "      <td>2103</td>\n",
       "      <td>0</td>\n",
       "      <td>1</td>\n",
       "    </tr>\n",
       "    <tr>\n",
       "      <th>4</th>\n",
       "      <td>3643</td>\n",
       "      <td>0</td>\n",
       "      <td>3</td>\n",
       "    </tr>\n",
       "  </tbody>\n",
       "</table>\n",
       "</div>"
      ],
      "text/plain": [
       "   user_int  item_int  rating\n",
       "0        13         0       6\n",
       "1       302         0       6\n",
       "2      1954         0       5\n",
       "3      2103         0       1\n",
       "4      3643         0       3"
      ]
     },
     "execution_count": 28,
     "metadata": {},
     "output_type": "execute_result"
    }
   ],
   "source": [
    "dat.head()"
   ]
  },
  {
   "cell_type": "code",
   "execution_count": null,
   "metadata": {
    "collapsed": true
   },
   "outputs": [],
   "source": []
  }
 ],
 "metadata": {
  "kernelspec": {
   "display_name": "Python 2",
   "language": "python",
   "name": "python2"
  },
  "language_info": {
   "codemirror_mode": {
    "name": "ipython",
    "version": 2
   },
   "file_extension": ".py",
   "mimetype": "text/x-python",
   "name": "python",
   "nbconvert_exporter": "python",
   "pygments_lexer": "ipython2",
   "version": "2.7.12"
  }
 },
 "nbformat": 4,
 "nbformat_minor": 1
}
